{
 "cells": [
  {
   "cell_type": "code",
   "execution_count": 9,
   "metadata": {},
   "outputs": [],
   "source": [
    "import random\n",
    "import numpy as np\n",
    "import pandas as pd\n",
    "from datetime import datetime, timedelta"
   ]
  },
  {
   "cell_type": "code",
   "execution_count": 10,
   "metadata": {},
   "outputs": [
    {
     "data": {
      "text/plain": [
       "datetime.datetime(2023, 1, 1, 0, 0)"
      ]
     },
     "execution_count": 10,
     "metadata": {},
     "output_type": "execute_result"
    }
   ],
   "source": [
    "dt = datetime(year=2023, month=1, day=1)\n",
    "dt"
   ]
  },
  {
   "cell_type": "code",
   "execution_count": 11,
   "metadata": {},
   "outputs": [
    {
     "data": {
      "text/plain": [
       "datetime.timedelta(days=1)"
      ]
     },
     "execution_count": 11,
     "metadata": {},
     "output_type": "execute_result"
    }
   ],
   "source": [
    "td = timedelta(days=1)\n",
    "td"
   ]
  },
  {
   "cell_type": "code",
   "execution_count": 12,
   "metadata": {},
   "outputs": [],
   "source": [
    "data1 = []\n",
    "data2 = []\n",
    "data3 = []\n",
    "\n",
    "for _ in range(100):\n",
    "  # Store_1\n",
    "  data1.extend(\n",
    "    [\n",
    "      (dt, \"product_0\", 5, random.randint(0, 600)),\n",
    "      (dt, \"product_1\", 12, random.randint(0, 400)),\n",
    "    ]\n",
    "  )\n",
    "\n",
    "  # Store_2\n",
    "  data2.extend(\n",
    "    [\n",
    "      (dt, \"product_0\", 5, random.randint(0, 600)),\n",
    "      (dt, \"product_2\", 12, random.randint(0, 400)),\n",
    "    ]\n",
    "  )\n",
    "\n",
    "  # Store_3\n",
    "  data3.extend(\n",
    "    [\n",
    "      (dt, \"product_0\", 5, random.randint(0, 500)),\n",
    "      (dt, \"product_1\", 12, random.randint(0, 300)),\n",
    "      (dt, \"product_2\", 12, random.randint(0, 300)),\n",
    "    ]\n",
    "  )\n",
    "\n",
    "  dt += td"
   ]
  },
  {
   "cell_type": "code",
   "execution_count": 13,
   "metadata": {},
   "outputs": [],
   "source": [
    "df1 = pd.DataFrame(data=np.array(data1), columns=[\"Date\", \"SKU\", \"Price\", \"Demand\"])\n",
    "df1.to_csv(\"/home/jinyu/maro/maro/simulator/scenarios/supply_chain/topologies/single_echelon/store_1_demand.csv\", index=False)\n",
    "\n",
    "df2 = pd.DataFrame(data=np.array(data2), columns=[\"Date\", \"SKU\", \"Price\", \"Demand\"])\n",
    "df2.to_csv(\"/home/jinyu/maro/maro/simulator/scenarios/supply_chain/topologies/single_echelon/store_2_demand.csv\", index=False)\n",
    "\n",
    "df3 = pd.DataFrame(data=np.array(data3), columns=[\"Date\", \"SKU\", \"Price\", \"Demand\"])\n",
    "df3.to_csv(\"/home/jinyu/maro/maro/simulator/scenarios/supply_chain/topologies/single_echelon/store_3_demand.csv\", index=False)"
   ]
  },
  {
   "cell_type": "code",
   "execution_count": null,
   "metadata": {},
   "outputs": [],
   "source": []
  }
 ],
 "metadata": {
  "kernelspec": {
   "display_name": "maro",
   "language": "python",
   "name": "python3"
  },
  "language_info": {
   "codemirror_mode": {
    "name": "ipython",
    "version": 3
   },
   "file_extension": ".py",
   "mimetype": "text/x-python",
   "name": "python",
   "nbconvert_exporter": "python",
   "pygments_lexer": "ipython3",
   "version": "3.7.12"
  }
 },
 "nbformat": 4,
 "nbformat_minor": 2
}
