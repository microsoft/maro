{
 "cells": [
  {
   "cell_type": "code",
   "execution_count": 6,
   "id": "5af20cf5",
   "metadata": {},
   "outputs": [],
   "source": [
    "from maro.simulator import Env"
   ]
  },
  {
   "cell_type": "code",
   "execution_count": 7,
   "id": "f2217af4",
   "metadata": {},
   "outputs": [
    {
     "name": "stdout",
     "output_type": "stream",
     "text": [
      "{'train': {'config': {'class': 'VehicleUnit', 'config': {'patient': 100}},\n",
      "           'number': 2}}\n",
      "{'train': {'config': {'class': 'VehicleUnit', 'config': {'patient': 100}},\n",
      "           'number': 2}}\n",
      "{'train': {'config': {'class': 'VehicleUnit', 'config': {'patient': 100}},\n",
      "           'number': 2}}\n"
     ]
    }
   ],
   "source": [
    "env = Env(scenario=\"supply_chain\", topology=\"sample\", durations=64)"
   ]
  },
  {
   "cell_type": "code",
   "execution_count": 8,
   "id": "0329ff15",
   "metadata": {},
   "outputs": [],
   "source": [
    "from pprint import pprint"
   ]
  },
  {
   "cell_type": "code",
   "execution_count": 9,
   "id": "4e480083",
   "metadata": {},
   "outputs": [],
   "source": [
    "metrics, decision_event, is_done = env.step(None)"
   ]
  },
  {
   "cell_type": "code",
   "execution_count": null,
   "id": "4c0075b4",
   "metadata": {},
   "outputs": [],
   "source": []
  },
  {
   "cell_type": "code",
   "execution_count": 10,
   "id": "7201c50d",
   "metadata": {},
   "outputs": [
    {
     "name": "stdout",
     "output_type": "stream",
     "text": [
      "environment metrics: {'products': {6: {'sale_mean': 181.25, 'sale_std': 1.6338834764831844, 'selling_price': 200, 'pending_order_daily': None}, 13: {'sale_mean': 98.5, 'sale_std': 1.8371173070873834, 'selling_price': 300, 'pending_order_daily': None}, 15: {'sale_mean': 82, 'sale_std': 1.5309310892394863, 'selling_price': 0.0, 'pending_order_daily': array([0, 0, 0, 0])}, 22: {'sale_mean': 0, 'sale_std': 0.0, 'selling_price': 0.0, 'pending_order_daily': array([0, 0, 0, 0])}, 24: {'sale_mean': 0, 'sale_std': 0.0, 'selling_price': 0.0, 'pending_order_daily': array([0, 0, 0, 0])}, 28: {'sale_mean': 98.5, 'sale_std': 2.598076211353316, 'selling_price': 300, 'pending_order_daily': array([0, 0, 0, 0])}, 31: {'sale_mean': 99.25, 'sale_std': 1.299038105676658, 'selling_price': 200, 'pending_order_daily': array([0, 0, 0, 0])}}, 'facilities': {1: {'in_transit_orders': defaultdict(<class 'int'>, {}), 'pending_order': defaultdict(<class 'int'>, {})}, 8: {'in_transit_orders': defaultdict(<class 'int'>, {3: 0}), 'pending_order': defaultdict(<class 'int'>, {})}, 17: {'in_transit_orders': defaultdict(<class 'int'>, {1: 0, 3: 0}), 'pending_order': defaultdict(<class 'int'>, {})}, 26: {'in_transit_orders': defaultdict(<class 'int'>, {1: 0, 3: 0}), 'pending_order': None}}}\n"
     ]
    }
   ],
   "source": [
    "print(f\"environment metrics: {env.metrics}\")"
   ]
  },
  {
   "cell_type": "code",
   "execution_count": 11,
   "id": "a68f8c83",
   "metadata": {},
   "outputs": [
    {
     "name": "stdout",
     "output_type": "stream",
     "text": [
      "(\"environment metrics: {'products': {6: {'sale_mean': 181.25, 'sale_std': \"\n",
      " \"1.6338834764831844, 'selling_price': 200, 'pending_order_daily': None}, 13: \"\n",
      " \"{'sale_mean': 98.5, 'sale_std': 1.8371173070873834, 'selling_price': 300, \"\n",
      " \"'pending_order_daily': None}, 15: {'sale_mean': 82, 'sale_std': \"\n",
      " \"1.5309310892394863, 'selling_price': 0.0, 'pending_order_daily': array([0, \"\n",
      " \"0, 0, 0])}, 22: {'sale_mean': 0, 'sale_std': 0.0, 'selling_price': 0.0, \"\n",
      " \"'pending_order_daily': array([0, 0, 0, 0])}, 24: {'sale_mean': 0, \"\n",
      " \"'sale_std': 0.0, 'selling_price': 0.0, 'pending_order_daily': array([0, 0, \"\n",
      " \"0, 0])}, 28: {'sale_mean': 98.5, 'sale_std': 2.598076211353316, \"\n",
      " \"'selling_price': 300, 'pending_order_daily': array([0, 0, 0, 0])}, 31: \"\n",
      " \"{'sale_mean': 99.25, 'sale_std': 1.299038105676658, 'selling_price': 200, \"\n",
      " \"'pending_order_daily': array([0, 0, 0, 0])}}, 'facilities': {1: \"\n",
      " \"{'in_transit_orders': defaultdict(<class 'int'>, {}), 'pending_order': \"\n",
      " \"defaultdict(<class 'int'>, {})}, 8: {'in_transit_orders': defaultdict(<class \"\n",
      " \"'int'>, {3: 0}), 'pending_order': defaultdict(<class 'int'>, {})}, 17: \"\n",
      " \"{'in_transit_orders': defaultdict(<class 'int'>, {1: 0, 3: 0}), \"\n",
      " \"'pending_order': defaultdict(<class 'int'>, {})}, 26: {'in_transit_orders': \"\n",
      " \"defaultdict(<class 'int'>, {1: 0, 3: 0}), 'pending_order': None}}}\")\n"
     ]
    }
   ],
   "source": [
    "pprint(f\"environment metrics: {env.metrics}\")"
   ]
  },
  {
   "cell_type": "code",
   "execution_count": 22,
   "id": "6960555e",
   "metadata": {},
   "outputs": [
    {
     "name": "stdout",
     "output_type": "stream",
     "text": [
      "'environment _decision_eventss: [None, None, None, None, None]'\n"
     ]
    }
   ],
   "source": [
    "pprint(f\"environment metrics: {env._decision_events}\")"
   ]
  },
  {
   "cell_type": "code",
   "execution_count": 30,
   "id": "1f28fa89",
   "metadata": {},
   "outputs": [
    {
     "name": "stdout",
     "output_type": "stream",
     "text": [
      "<bound method Env.get_finished_events of <maro.simulator.core.Env object at 0x00000259FCD76F70>>\n"
     ]
    }
   ],
   "source": [
    "metrics, decision_event, is_done = env.step(None)\n",
    "pprint(env.get_finished_events)"
   ]
  },
  {
   "cell_type": "code",
   "execution_count": null,
   "id": "1a0450d0",
   "metadata": {},
   "outputs": [],
   "source": []
  },
  {
   "cell_type": "code",
   "execution_count": null,
   "id": "82c8f2bc",
   "metadata": {},
   "outputs": [],
   "source": []
  }
 ],
 "metadata": {
  "kernelspec": {
   "display_name": "Python 3 (ipykernel)",
   "language": "python",
   "name": "python3"
  },
  "language_info": {
   "codemirror_mode": {
    "name": "ipython",
    "version": 3
   },
   "file_extension": ".py",
   "mimetype": "text/x-python",
   "name": "python",
   "nbconvert_exporter": "python",
   "pygments_lexer": "ipython3",
   "version": "3.9.7"
  }
 },
 "nbformat": 4,
 "nbformat_minor": 5
}
