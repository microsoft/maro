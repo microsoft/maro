{
 "cells": [
  {
   "cell_type": "markdown",
   "metadata": {},
   "source": [
    "# Quick Start\n",
    "\n",
    "Below is a simple demo of interaction with the environment of the VM scheduling scenario."
   ]
  },
  {
   "cell_type": "code",
   "execution_count": 1,
   "metadata": {},
   "outputs": [
    {
     "name": "stdout",
     "output_type": "stream",
     "text": [
      "{'total_vm_requests': 10000, 'total_energy_consumption': 863800.0, 'successful_allocation': 0, 'successful_completion': 0, 'failed_allocation': 0, 'total_latency': Latency(Agent=0, Resource=0), 'total_oversubscriptions': 0}\n"
     ]
    }
   ],
   "source": [
    "from maro.simulator import Env\n",
    "from maro.simulator.scenarios.vm_scheduling import AllocateAction, DecisionPayload\n",
    "\n",
    "env = Env(scenario=\"vm_scheduling\", topology=\"azure.2019.10k\", start_tick=0, durations=8638, snapshot_resolution=1)\n",
    "\n",
    "metrics: object = None\n",
    "decision_payload: DecisionPayload = None\n",
    "is_done: bool = False\n",
    "\n",
    "while not is_done:\n",
    "    action: AllocateAction = None\n",
    "    metrics, decision_payload, is_done = env.step(action)\n",
    "\n",
    "print(metrics)"
   ]
  },
  {
   "cell_type": "markdown",
   "metadata": {},
   "source": [
    "# Environment of the VM scheduling\n",
    "\n",
    "To initialize an environment, you need to specify the values of several parameters:\n",
    "\n",
    "- **scenario**: The target scenario of this Env.\n",
    "  - `vm_scheduling` denotes for the virtual machine scheduling.\n",
    "- **topology**: The target topology of this Env. As shown below, you can get the predefined topology list by calling `get_topologies(scenario='vm_scheduling')`\n",
    "- **start_tick**: The start tick of this Env. In vm_scheduling scenario, 1 tick respresents as 5 minutes in real-time.\n",
    "  - In the demo above, `start_tick=0` indicates a simulation start from the beginning of the given topology.\n",
    "- **durations**: The duration of thie Env, in the unit of tick/5 minutes.\n",
    "  - In the demo above, `durations=8638` indicates a simulation length of roughly 30 days (30d * 24h * 60m / 5). It is also the maximun length of this topology.\n",
    "- **snapshot_resolution**: The time granularity of maintaining the snapshots of the environments, in the unit of tick/5 minutes.\n",
    "  - In the demo above, `snapshot_resolution=1` indicates that a snapshot will be created and saved every tick during the simulation.\n",
    "  \n",
    "You can get all available scenarios and topologies by calling:"
   ]
  },
  {
   "cell_type": "code",
   "execution_count": 2,
   "metadata": {},
   "outputs": [
    {
     "name": "stdout",
     "output_type": "stream",
     "text": [
      "'The available scenarios in MARO:'\n",
      "['cim', 'citi_bike', 'vm_scheduling']\n",
      "\n",
      "'The predefined topologies in VM Scheuling:'\n",
      "['azure.2019.10k', 'azure.2019.336k']\n"
     ]
    }
   ],
   "source": [
    "from maro.simulator.utils import get_scenarios, get_topologies\n",
    "from pprint import pprint\n",
    "from typing import List\n",
    "\n",
    "scenarios: List[str] = get_scenarios()\n",
    "topologies: List[str] = get_topologies(scenario='vm_scheduling')\n",
    "\n",
    "pprint(f'The available scenarios in MARO:')\n",
    "pprint(scenarios)\n",
    "\n",
    "print()\n",
    "pprint(f'The predefined topologies in VM Scheuling:')\n",
    "pprint(topologies)"
   ]
  },
  {
   "cell_type": "markdown",
   "metadata": {},
   "source": [
    "Once you created an instance of the environment, you can easily access the real-time information of this environment, like:"
   ]
  },
  {
   "cell_type": "code",
   "execution_count": 3,
   "metadata": {},
   "outputs": [
    {
     "name": "stdout",
     "output_type": "stream",
     "text": [
      "The current tick: 0.\n",
      "The current frame index: 0.\n",
      "There will be 8638 snapshots in total.\n",
      "\n",
      "Env Summary:\n",
      "{'event_payload': {'PENDING_DECISION': ['valid_pms',\n",
      "                                        'vm_id',\n",
      "                                        'vm_cpu_cores_requirement',\n",
      "                                        'vm_memory_requirement',\n",
      "                                        'remaining_buffer_time'],\n",
      "                   'REQUEST': ['vm_info', 'remaining_buffer_time']},\n",
      " 'node_detail': {'pms': {'attributes': {'cpu_cores_allocated': {'slots': 1,\n",
      "                                                                'type': 'i2'},\n",
      "                                        'cpu_cores_capacity': {'slots': 1,\n",
      "                                                               'type': 'i2'},\n",
      "                                        'cpu_utilization': {'slots': 1,\n",
      "                                                            'type': 'f'},\n",
      "                                        'energy_consumption': {'slots': 1,\n",
      "                                                               'type': 'f'},\n",
      "                                        'id': {'slots': 1, 'type': 'i'},\n",
      "                                        'memory_allocated': {'slots': 1,\n",
      "                                                             'type': 'i2'},\n",
      "                                        'memory_capacity': {'slots': 1,\n",
      "                                                            'type': 'i2'}},\n",
      "                         'number': 100}},\n",
      " 'node_mapping': {}}\n",
      "\n",
      "Env Metrics:\n",
      "{'total_vm_requests': 0, 'total_energy_consumption': 0, 'successful_allocation': 0, 'successful_completion': 0, 'failed_allocation': 0, 'total_latency': Latency(Agent=0, Resource=0), 'total_oversubscriptions': 0}\n"
     ]
    }
   ],
   "source": [
    "from maro.backends.frame import SnapshotList\n",
    "from maro.simulator import Env\n",
    "from pprint import pprint\n",
    "\n",
    "\n",
    "# Initialize an Env for vm_scheduling scenario.\n",
    "env = Env(scenario=\"vm_scheduling\", topology=\"azure.2019.10k\", start_tick=0, durations=8638, snapshot_resolution=1)\n",
    "\n",
    "# The current tick.\n",
    "tick: int = env.tick\n",
    "print(f\"The current tick: {tick}.\")\n",
    "\n",
    "# The current frame index, which indicates the index of current frame in the snapshot-list.\n",
    "frame_index: int = env.frame_index\n",
    "print(f\"The current frame index: {frame_index}.\")\n",
    "\n",
    "# The whole snapshot-list of the environment, snapshots are taken in the granularity of the given snapshot_resolution.\n",
    "# The example of how to use the snapshot will be shown later.\n",
    "snapshot_list: SnapshotList = env.snapshot_list\n",
    "print(f\"There will be {len(snapshot_list)} snapshots in total.\")\n",
    "\n",
    "# The summary information of the environment.\n",
    "summary: dict = env.summary\n",
    "print(f\"\\nEnv Summary:\")\n",
    "pprint(summary)\n",
    "\n",
    "# The metrics of the environment\n",
    "metrics: dict = env.metrics\n",
    "print(f\"\\nEnv Metrics:\")\n",
    "pprint(metrics)"
   ]
  },
  {
   "cell_type": "markdown",
   "metadata": {},
   "source": [
    "# Interaction with the environment\n",
    "\n",
    "Before starting interaction with the environment, we need to know **DecisionPayload** and **Action** first.\n",
    "\n",
    "## DecisionPayload\n",
    "\n",
    "Once the environment need the agent's response to promote the simulation, it will throw an **PendingDecision** event with the **DecisionPayload**. In the scenario of vm_scheduling, the information of `DecisionPayload` is listed as below:\n",
    "- **valid_pms** (List[int]): The list of the PM ID that is considered as valid (its CPU and memory resource is enough for the incoming VM request).\n",
    "- **vm_id** (int): The VM ID of the incoming VM request(VM request that is waiting for the allocation).\n",
    "- **vm_cpu_cores_requirement** (int): The CPU cores that is requested by the incoming VM request.\n",
    "- **vm_memory_requirement** (int): The memory resource that is reqeusted by the incoming VM request.\n",
    "- **remaining_buffer_time** (int): The remaining buffer time for the VM allocation. The VM request will be treated as failed when the `remaining_buffer_time` is spent. The initial buffer time budget can be set in the `config.yml`.\n",
    "\n",
    "## Action\n",
    "Once get a **PendingDecision** event from the envirionment, the agent should respond with an `Action`. Valid `Action` includes:\n",
    "- **None**. It means do nothing but ignore this VM request.\n",
    "- **AllocateAction**. It includes:\n",
    "  - vm_id (int): The ID of the VM that is waiting for the allocation.\n",
    "  - pm_id (int): The ID of the PM where the VM is scheduled to allocate to.\n",
    "- **PostponeAction**. It includes:\n",
    "  - vm_id (int): The ID of the VM that is waiting for the allocation.\n",
    "  - postpone_step (int): The number of times that the allocation to be postponed. The unit is `DELAY_DURATION`. 1 means delay 1 `DELAY_DURATION`, which can be set in the `config.yml`.\n",
    " \n",
    "## Generate random actions\n",
    "\n",
    "The demo code in the Quick Start part has shown an interaction mode that doing nothing(responding with `None` action). Here we read the detailed information about the `DecisionPayload` and randomly choose an available PM."
   ]
  },
  {
   "cell_type": "code",
   "execution_count": 4,
   "metadata": {},
   "outputs": [
    {
     "name": "stdout",
     "output_type": "stream",
     "text": [
      "[Random] Topology: azure.2019.10k. Total ticks: 8638. Start tick: 0\n",
      "{'total_vm_requests': 10000, 'total_energy_consumption': 2424542.739185214, 'successful_allocation': 9903, 'successful_completion': 9084, 'failed_allocation': 97, 'total_latency': Latency(Agent=0, Resource=0), 'total_oversubscriptions': 0}\n"
     ]
    }
   ],
   "source": [
    "import random\n",
    "\n",
    "from maro.simulator import Env\n",
    "from maro.simulator.scenarios.vm_scheduling import AllocateAction, DecisionPayload, PostponeAction\n",
    "\n",
    "# Initialize an Env for vm_scheduling scenario\n",
    "env = Env(scenario=\"vm_scheduling\", topology=\"azure.2019.10k\", start_tick=0, durations=8638, snapshot_resolution=1)\n",
    "\n",
    "metrics: object = None\n",
    "decision_event: DecisionPayload = None\n",
    "is_done: bool = False\n",
    "action: AllocateAction = None\n",
    "    \n",
    "# Start the env with a None Action\n",
    "metrics, decision_event, is_done = env.step(None)\n",
    "\n",
    "while not is_done:\n",
    "    valid_pm_num: int = len(decision_event.valid_pms)\n",
    "    if valid_pm_num <= 0:\n",
    "        # No valid PM now, postpone.\n",
    "        action: PostponeAction = PostponeAction(\n",
    "            vm_id=decision_event.vm_id,\n",
    "            postpone_step=1\n",
    "        )\n",
    "    else:\n",
    "        # Randomly choose an available PM.\n",
    "        random_idx = random.randint(0, valid_pm_num - 1)\n",
    "        pm_id = decision_event.valid_pms[random_idx]\n",
    "        action: AllocateAction = AllocateAction(\n",
    "            vm_id=decision_event.vm_id,\n",
    "            pm_id=pm_id\n",
    "        )\n",
    "    metrics, decision_event, is_done = env.step(action)\n",
    "\n",
    "print(f\"[Random] Topology: azure.2019.10k. Total ticks: 8638. Start tick: 0\")\n",
    "print(metrics)"
   ]
  },
  {
   "cell_type": "markdown",
   "metadata": {},
   "source": [
    "# Get the environment observation\n",
    "\n",
    "You can also implement other strategies or build models to take action. At this time, real-time information and historical records of the environment are very important for making good decisions. In this case, the the environment snapshot list is exactly what you need.\n",
    "\n",
    "The information in the snapshot list is indexed by 3 dimensions:\n",
    "\n",
    "- A frame index (list). (int / List[int]) Empty indicates for all time slides till now.\n",
    "- A PM id (list). (int / List[int]) Empty indicates for all PMs.\n",
    "- An Attribute name (list). (str / List[str]) You can get all available attributes in env.summary as shown before.\n",
    "\n",
    "The return value from the snapshot list is a `numpy.ndarray` with shape (`num_frame` * `num_pms` * `num_attribute`, ).\n",
    "\n",
    "More detailed introduction to the snapshot list is [here](https://maro.readthedocs.io/en/latest/key_components/data_model.html#advanced-features)."
   ]
  },
  {
   "cell_type": "code",
   "execution_count": 5,
   "metadata": {},
   "outputs": [
    {
     "name": "stdout",
     "output_type": "stream",
     "text": [
      "{'pms': {'attributes': {...}, 'number': 100}}\n",
      "\n",
      "{'attributes': {'cpu_cores_allocated': {'slots': 1, 'type': 'i2'},\n",
      "                'cpu_cores_capacity': {'slots': 1, 'type': 'i2'},\n",
      "                'cpu_utilization': {'slots': 1, 'type': 'f'},\n",
      "                'energy_consumption': {'slots': 1, 'type': 'f'},\n",
      "                'id': {'slots': 1, 'type': 'i'},\n",
      "                'memory_allocated': {'slots': 1, 'type': 'i2'},\n",
      "                'memory_capacity': {'slots': 1, 'type': 'i2'}},\n",
      " 'number': 100}\n"
     ]
    }
   ],
   "source": [
    "from pprint import pprint\n",
    "\n",
    "from maro.simulator import Env\n",
    "\n",
    "# Initialize an Env for vm_scheduling scenario\n",
    "env = Env(scenario=\"vm_scheduling\", topology=\"azure.2019.10k\", start_tick=0, durations=8638, snapshot_resolution=1)\n",
    "\n",
    "# To get the attribute list that can be accessed in snapshot_list\n",
    "pprint(env.summary['node_detail'], depth=2)\n",
    "print()\n",
    "# The attribute list of stations\n",
    "pprint(env.summary['node_detail']['pms'])"
   ]
  },
  {
   "cell_type": "code",
   "execution_count": 6,
   "metadata": {},
   "outputs": [
    {
     "name": "stdout",
     "output_type": "stream",
     "text": [
      "For the first 10 valid PMs:\n",
      "cpu core capacity:  [32. 32. 32. 32. 32. 32. 32. 32. 32. 32.]\n",
      "cpu core allocated: [18. 28. 18. 20. 22. 20. 22. 22. 20. 26.]\n",
      "cpu core remaining: [14.  4. 14. 12. 10. 12. 10. 10. 12.  6.]\n",
      "For the first valid PM:\n",
      "Recent cpu utilization series is: [ 9.43  7.11  9.46  8.94  9.33  7.81  9.99  9.26 10.55  8.78]\n"
     ]
    }
   ],
   "source": [
    "from pprint import pprint\n",
    "\n",
    "from maro.simulator import Env\n",
    "from maro.simulator.scenarios.vm_scheduling import AllocateAction, DecisionPayload, PostponeAction\n",
    "\n",
    "env = Env(scenario=\"vm_scheduling\", topology=\"azure.2019.10k\", start_tick=0, durations=8638, snapshot_resolution=1)\n",
    "\n",
    "metrics: object = None\n",
    "decision_event: DecisionPayload = None\n",
    "is_done: bool = False\n",
    "action: AllocateAction = None\n",
    "    \n",
    "metrics, decision_event, is_done = env.step(None)\n",
    "\n",
    "while not is_done:\n",
    "    # This demo is used to show how to retrieve the information from the snapshot,\n",
    "    # we terminate at 2000th tick and see the output of the environment.\n",
    "    if env.frame_index >= 2000 and len(decision_event.valid_pms) > 0:\n",
    "        # Get current state information of the first 10 valid PMs.\n",
    "        valid_pm_info = env.snapshot_list[\"pms\"][\n",
    "            env.frame_index:decision_event.valid_pms[:10]:[\"cpu_cores_capacity\", \"cpu_cores_allocated\"]\n",
    "        ].reshape(-1, 2)\n",
    "        # Calculate to get the remaining cpu cores.\n",
    "        cpu_cores_remaining = valid_pm_info[:, 0] - valid_pm_info[:, 1]\n",
    "        # Show current state information of the first 10 valid PMs.\n",
    "        print(\"For the first 10 valid PMs:\")\n",
    "        print(f\"cpu core capacity:  {valid_pm_info[:, 0]}\")\n",
    "        print(f\"cpu core allocated: {valid_pm_info[:, 1]}\")\n",
    "        print(f\"cpu core remaining: {cpu_cores_remaining}\")\n",
    "        \n",
    "        # Get the historical cpu utilization of the first valid PM in the recent 10 ticks.\n",
    "        past_10_frames = [x for x in range(env.frame_index - 10, env.frame_index)]\n",
    "        cpu_utilization_series = env.snapshot_list[\"pms\"][\n",
    "            past_10_frames:decision_event.valid_pms[0]:\"cpu_utilization\"\n",
    "        ]\n",
    "        # Show the historical information of the first valid PM.\n",
    "        print(\"For the first valid PM:\")\n",
    "        print(f\"Recent cpu utilization series is: {cpu_utilization_series}\")\n",
    "        \n",
    "        break\n",
    "\n",
    "    valid_pm_num: int = len(decision_event.valid_pms)\n",
    "    if valid_pm_num <= 0:\n",
    "        # No valid PM now, postpone.\n",
    "        action: PostponeAction = PostponeAction(\n",
    "            vm_id=decision_event.vm_id,\n",
    "            postpone_step=1\n",
    "        )\n",
    "    else:\n",
    "        # Randomly choose an available PM.\n",
    "        random_idx = random.randint(0, valid_pm_num - 1)\n",
    "        pm_id = decision_event.valid_pms[random_idx]\n",
    "        action: AllocateAction = AllocateAction(\n",
    "            vm_id=decision_event.vm_id,\n",
    "            pm_id=pm_id\n",
    "        )\n",
    "    metrics, decision_event, is_done = env.step(action)"
   ]
  },
  {
   "cell_type": "code",
   "execution_count": null,
   "metadata": {},
   "outputs": [],
   "source": []
  }
 ],
 "metadata": {
  "kernelspec": {
   "display_name": "Python 3",
   "language": "python",
   "name": "python3"
  },
  "language_info": {
   "codemirror_mode": {
    "name": "ipython",
    "version": 3
   },
   "file_extension": ".py",
   "mimetype": "text/x-python",
   "name": "python",
   "nbconvert_exporter": "python",
   "pygments_lexer": "ipython3",
   "version": "3.7.7"
  }
 },
 "nbformat": 4,
 "nbformat_minor": 4
}
