{
 "cells": [
  {
   "cell_type": "markdown",
   "metadata": {},
   "source": [
    "# Single Echelon Inventory Optimization Problem"
   ]
  },
  {
   "cell_type": "markdown",
   "metadata": {},
   "source": [
    "## Topology definition"
   ]
  },
  {
   "cell_type": "markdown",
   "metadata": {},
   "source": [
    "As a show case, we'll create a topology with 1 DC and 3 Stores. The products will flow from the DC to the Stores and there will be no direct connection between the Stores. The full definition could be found in [maro/simulator/scenarios/supply_chain/topologies/single_echelon/config.yml](https://github.com/microsoft/maro/blob/sc_single_echelon/maro/simulator/scenarios/supply_chain/topologies/single_echelon/config.yml).\n",
    "\n",
    "For each problem definition, there are 3 must set things in the *config.yml* file:\n",
    "  1. The full SKU list in this problem. Starting at [line 40](https://github.com/microsoft/maro/blob/sc_single_echelon/maro/simulator/scenarios/supply_chain/topologies/single_echelon/config.yml#L40), we defined 3 kinds of products named *product_0*, *product_1*, *product_2* here;\n",
    "  ```yaml\n",
    "      skus:\n",
    "        - id: 10\n",
    "          name: product_0\n",
    "        - id: 11\n",
    "          name: product_1\n",
    "        - id: 12\n",
    "          name: product_2\n",
    "  ```\n",
    "  2. The facility list in this problem. Starting at [line 48](https://github.com/microsoft/maro/blob/sc_single_echelon/maro/simulator/scenarios/supply_chain/topologies/single_echelon/config.yml#L48), we defined 1 DC and 3 Stores here. According to the problem statement, the DC's storage capacity is unlimited ([line 54](https://github.com/microsoft/maro/blob/sc_single_echelon/maro/simulator/scenarios/supply_chain/topologies/single_echelon/config.yml#L54)) and free ([line 55](https://github.com/microsoft/maro/blob/sc_single_echelon/maro/simulator/scenarios/supply_chain/topologies/single_echelon/config.yml#L55)). While each product in each store can be independently configured holding cost ([line 88](https://github.com/microsoft/maro/blob/sc_single_echelon/maro/simulator/scenarios/supply_chain/topologies/single_echelon/config.yml#L88)) and loss sale cost ([line 102](https://github.com/microsoft/maro/blob/sc_single_echelon/maro/simulator/scenarios/supply_chain/topologies/single_echelon/config.yml#L102)). As the forecasted demand would be provided for each product from each store at each time, we can specify the file path of the forecasted demand data ([line 114](https://github.com/microsoft/maro/blob/sc_single_echelon/maro/simulator/scenarios/supply_chain/topologies/single_echelon/config.yml#L114)) and the column names of the provided information ([line 32](https://github.com/microsoft/maro/blob/sc_single_echelon/maro/simulator/scenarios/supply_chain/topologies/single_echelon/config.yml#L32));\n",
    "  ```yaml\n",
    "      facilities:\n",
    "        - name: DC\n",
    "          definition_ref: DistributionCentre\n",
    "          children:\n",
    "            storage:\n",
    "              config:\n",
    "                capacity: null  # null indicates infinite storage capacity.\n",
    "                unit_storage_cost: 0\n",
    "          ...\n",
    "        - name: Store_1\n",
    "          definition_ref: StoreFacility\n",
    "          children:\n",
    "            storage:\n",
    "              config:\n",
    "                -\n",
    "                  id: 0\n",
    "                  capacity: 500\n",
    "                  unit_storage_cost: 0.1  # NOTE: Holding cost for product_0\n",
    "                -\n",
    "                  ...\n",
    "          skus:\n",
    "            \"product_0\":\n",
    "              price: 5\n",
    "              sub_storage_id: 0\n",
    "              backlog_ratio: 0.1  # NOTE: LS = price * backlog_ratio\n",
    "              ...\n",
    "            ...\n",
    "          config:\n",
    "            file_path:  maro/simulator/scenarios/supply_chain/topologies/single_echelon/store_1_demand.csv\n",
    "            ...\n",
    "        -\n",
    "          ...\n",
    "  ```\n",
    "  3. The product flow together with the leading time information, i.e., the *topology* setting. This information is organized as (store, product, upstream facility it can order from). For example, to indicate that *Store_1* can order *product_0* from *DC*, with a leading time of *1 day*, we can define the topology relationship as [line 202](https://github.com/microsoft/maro/blob/sc_single_echelon/maro/simulator/scenarios/supply_chain/topologies/single_echelon/config.yml#L202):\n",
    "  ```yaml\n",
    "      topology:\n",
    "        \"Store_1\":\n",
    "          \"product_0\":\n",
    "            \"DC\":\n",
    "              train:\n",
    "                vlt: 1\n",
    "                cost: 0\n",
    "        ...\n",
    "  ```"
   ]
  },
  {
   "cell_type": "markdown",
   "metadata": {},
   "source": [
    "## Constraints Supporting"
   ]
  },
  {
   "cell_type": "markdown",
   "metadata": {},
   "source": [
    "Constraint *3. Day end inventory calculation* and *4. Inventory continuity constraint* are already embedded in existing facility as common logic. While the *1. Supply constraint* and *2. Labour constraint* can be supported in 2 ways:\n",
    "1. Inherit the Product Unit of the used DC facility and add the logic there;\n",
    "2. Add action shaping logic to meet these 2 constraints outside the simulator. Here we choose this way as the show case. The full action shaping logic can be found in file [examples/supply_chain/single_echelon\n",
    "/env_sampler.py](https://github.com/microsoft/maro/blob/sc_single_echelon/examples/supply_chain/single_echelon/env_sampler.py), and the extra shaping logic for these 2 constraints can be found in [line 612](https://github.com/microsoft/maro/blob/sc_single_echelon/examples/supply_chain/single_echelon/env_sampler.py#L612). Note that, here we just use a constant *SC* and *LC*, these constant values can be easily replaced with dynamic ones."
   ]
  },
  {
   "cell_type": "markdown",
   "metadata": {},
   "source": [
    "## Action Shaping with Initial Guess"
   ]
  },
  {
   "cell_type": "markdown",
   "metadata": {},
   "source": [
    "In current [action shaping implementation](https://github.com/microsoft/maro/blob/sc_single_echelon/examples/supply_chain/single_echelon/env_sampler.py#L569), we defined the ordered quantity to be a multiple of the historical observed demand mean, which means the action output by the policy is the multiple factor. Further, with the *or_action* provided as the *initial guess*, the RL output could be a fluctuation based on the *or_action*/*initial guess*:\n",
    "```py\n",
    "  # Consumer action\n",
    "  if issubclass(self._entity_dict[agent_id].class_type, ConsumerUnit):\n",
    "      if isinstance(self._policy_dict[self._agent2policy[agent_id]], RLPolicy):\n",
    "          baseline_action = np.array(self._agent_state_dict[agent_id][-OR_NUM_CONSUMER_ACTIONS:])\n",
    "          or_action = np.where(baseline_action == 1.0)[0][0]\n",
    "          action_idx = max(0, int(action[0] - 1 + or_action))\n",
    "      else:\n",
    "          action_idx = action[0]\n",
    "\n",
    "      product_unit_id: int = self._unit2product_unit[entity_id]\n",
    "      action_quantity = int(\n",
    "          int(action_idx) * max(1.0, self._cur_metrics[\"products\"][product_unit_id][\"demand_mean\"]),\n",
    "      )\n",
    "```\n",
    "\n",
    "**Note that,** depends on your need, the action space could be defined as the quantity instead of the multiple factor. Then the RL output could be the abstract quantity delta to the initial guess."
   ]
  },
  {
   "cell_type": "markdown",
   "metadata": {},
   "source": [
    "## Optimization Objective Supporting"
   ]
  },
  {
   "cell_type": "markdown",
   "metadata": {},
   "source": [
    "The balance calculation would be triggered tick by tick, unit by unit, facility by facility, as you can find in [examples/supply_chain/common/balance_calculator.py](https://github.com/microsoft/maro/blob/sc_single_echelon/examples/supply_chain/common/balance_calculator.py#L412). Since we already set the unit cost of parts that we don't care about to 0 in topology config file ([maro/simulator/scenarios/supply_chain/topologies/single_echelon/config.yml](https://github.com/microsoft/maro/blob/sc_single_echelon/maro/simulator/scenarios/supply_chain/topologies/single_echelon/config.yml)), the calculated balance would contains only *product profit*, *loss sale cost* and *holding cost*."
   ]
  },
  {
   "cell_type": "markdown",
   "metadata": {},
   "source": [
    "## Try Run RL Training Process in Single Echelon Problem"
   ]
  },
  {
   "cell_type": "markdown",
   "metadata": {},
   "source": [
    "To show the training process here, we shorten the training episodes and duration here, to config it you can tune the parameters in [examples/rl/sc_single_echelon.yml](https://github.com/microsoft/maro/blob/sc_single_echelon/examples/rl/sc_single_echelon.yml) and [examples/supply_chain/single_echelon/config.py](https://github.com/microsoft/maro/blob/sc_single_echelon/examples/supply_chain/single_echelon/config.py)."
   ]
  },
  {
   "cell_type": "code",
   "execution_count": 1,
   "metadata": {},
   "outputs": [],
   "source": [
    "import os\n",
    "os.chdir(\"../..\")"
   ]
  },
  {
   "cell_type": "code",
   "execution_count": 2,
   "metadata": {},
   "outputs": [
    {
     "name": "stdout",
     "output_type": "stream",
     "text": [
      "Loading data from maro/simulator/scenarios/supply_chain/topologies/single_echelon/store_1_demand_preprocessed.csv\n",
      "200it [00:00, 170396.26it/s]\n",
      "Loading data from maro/simulator/scenarios/supply_chain/topologies/single_echelon/store_2_demand_preprocessed.csv\n",
      "200it [00:00, 182083.96it/s]\n",
      "Loading data from maro/simulator/scenarios/supply_chain/topologies/single_echelon/store_3_demand_preprocessed.csv\n",
      "300it [00:00, 188508.04it/s]\n",
      "Loading data from maro/simulator/scenarios/supply_chain/topologies/single_echelon/store_1_demand_preprocessed.csv\n",
      "200it [00:00, 190433.78it/s]\n",
      "Loading data from maro/simulator/scenarios/supply_chain/topologies/single_echelon/store_2_demand_preprocessed.csv\n",
      "200it [00:00, 145711.45it/s]\n",
      "Loading data from maro/simulator/scenarios/supply_chain/topologies/single_echelon/store_3_demand_preprocessed.csv\n",
      "300it [00:00, 197844.53it/s]\n",
      "15:57:49 | MAIN | INFO | Start training workflow.\n",
      "15:57:49 | Total number of policy-related agents / entities: 7 / 33\n",
      "15:57:49 | MAIN | INFO | Policy will be evaluated at the end of episodes [10, 20, 30, 40, 50]\n",
      "15:57:50 | MAIN | INFO | Roll-out completed for episode 1. Training started...\n",
      "15:57:59 | MAIN | INFO | ep 1 - roll-out time: 0.92 seconds, training time: 9.03 seconds\n",
      "15:58:00 | MAIN | INFO | Roll-out completed for episode 2. Training started...\n",
      "15:58:12 | MAIN | INFO | ep 2 - roll-out time: 0.89 seconds, training time: 12.29 seconds\n",
      "15:58:13 | MAIN | INFO | Roll-out completed for episode 3. Training started...\n",
      "15:58:25 | MAIN | INFO | ep 3 - roll-out time: 0.85 seconds, training time: 12.25 seconds\n",
      "15:58:26 | MAIN | INFO | Roll-out completed for episode 4. Training started...\n",
      "15:58:38 | MAIN | INFO | ep 4 - roll-out time: 0.91 seconds, training time: 11.97 seconds\n",
      "15:58:39 | MAIN | INFO | Roll-out completed for episode 5. Training started...\n",
      "15:58:51 | MAIN | INFO | ep 5 - roll-out time: 0.69 seconds, training time: 12.07 seconds\n",
      "15:58:52 | MAIN | INFO | Roll-out completed for episode 6. Training started...\n",
      "15:59:04 | MAIN | INFO | ep 6 - roll-out time: 0.88 seconds, training time: 11.86 seconds\n",
      "15:59:05 | MAIN | INFO | Roll-out completed for episode 7. Training started...\n",
      "15:59:17 | MAIN | INFO | ep 7 - roll-out time: 0.90 seconds, training time: 12.02 seconds\n",
      "15:59:18 | MAIN | INFO | Roll-out completed for episode 8. Training started...\n",
      "15:59:30 | MAIN | INFO | ep 8 - roll-out time: 0.85 seconds, training time: 12.52 seconds\n",
      "15:59:31 | MAIN | INFO | Roll-out completed for episode 9. Training started...\n",
      "15:59:43 | MAIN | INFO | ep 9 - roll-out time: 0.85 seconds, training time: 12.41 seconds\n",
      "15:59:44 | MAIN | INFO | Roll-out completed for episode 10. Training started...\n",
      "15:59:56 | MAIN | INFO | ep 10 - roll-out time: 0.83 seconds, training time: 11.59 seconds\n",
      "15:59:57 | Update Max Eval Reward to: -20,400.00\n",
      "15:59:57 | Start render...\n",
      "15:59:59 | Start post update product metrics...\n",
      "15:59:59 | Start dump product metrics...\n",
      "15:59:59 | product metrics dumped to csv\n",
      "15:59:59 | Max Eval Reward: -20,400.00\n",
      "16:00:00 | MAIN | INFO | Roll-out completed for episode 11. Training started...\n",
      "16:00:09 | MAIN | INFO | ep 11 - roll-out time: 0.84 seconds, training time: 8.88 seconds\n",
      "16:00:10 | MAIN | INFO | Roll-out completed for episode 12. Training started...\n",
      "16:00:19 | MAIN | INFO | ep 12 - roll-out time: 0.85 seconds, training time: 9.04 seconds\n",
      "16:00:19 | MAIN | INFO | Roll-out completed for episode 13. Training started...\n",
      "16:00:29 | MAIN | INFO | ep 13 - roll-out time: 0.85 seconds, training time: 9.65 seconds\n",
      "16:00:30 | MAIN | INFO | Roll-out completed for episode 14. Training started...\n",
      "16:00:40 | MAIN | INFO | ep 14 - roll-out time: 0.86 seconds, training time: 9.56 seconds\n",
      "16:00:40 | MAIN | INFO | Roll-out completed for episode 15. Training started...\n",
      "16:00:50 | MAIN | INFO | ep 15 - roll-out time: 0.85 seconds, training time: 9.72 seconds\n",
      "16:00:51 | MAIN | INFO | Roll-out completed for episode 16. Training started...\n",
      "16:01:01 | MAIN | INFO | ep 16 - roll-out time: 0.85 seconds, training time: 9.55 seconds\n",
      "16:01:01 | MAIN | INFO | Roll-out completed for episode 17. Training started...\n",
      "16:01:11 | MAIN | INFO | ep 17 - roll-out time: 0.85 seconds, training time: 9.51 seconds\n",
      "16:01:12 | MAIN | INFO | Roll-out completed for episode 18. Training started...\n",
      "16:01:21 | MAIN | INFO | ep 18 - roll-out time: 0.86 seconds, training time: 9.39 seconds\n",
      "16:01:22 | MAIN | INFO | Roll-out completed for episode 19. Training started...\n",
      "16:01:31 | MAIN | INFO | ep 19 - roll-out time: 0.85 seconds, training time: 9.46 seconds\n",
      "16:01:32 | MAIN | INFO | Roll-out completed for episode 20. Training started...\n",
      "16:01:41 | MAIN | INFO | All trainer states saved under checkpoint/rl_job/supply_chain/20\n",
      "16:01:41 | MAIN | INFO | ep 20 - roll-out time: 0.85 seconds, training time: 8.69 seconds\n",
      "16:01:42 | Max Eval Reward: -20,400.00\n",
      "16:01:43 | MAIN | INFO | Roll-out completed for episode 21. Training started...\n",
      "16:01:52 | MAIN | INFO | ep 21 - roll-out time: 0.84 seconds, training time: 8.57 seconds\n",
      "16:01:52 | MAIN | INFO | Roll-out completed for episode 22. Training started...\n",
      "16:02:01 | MAIN | INFO | ep 22 - roll-out time: 0.85 seconds, training time: 8.89 seconds\n",
      "16:02:02 | MAIN | INFO | Roll-out completed for episode 23. Training started...\n",
      "16:02:11 | MAIN | INFO | ep 23 - roll-out time: 0.75 seconds, training time: 8.88 seconds\n",
      "16:02:12 | MAIN | INFO | Roll-out completed for episode 24. Training started...\n",
      "16:02:22 | MAIN | INFO | ep 24 - roll-out time: 0.86 seconds, training time: 9.75 seconds\n",
      "16:02:22 | MAIN | INFO | Roll-out completed for episode 25. Training started...\n",
      "16:02:32 | MAIN | INFO | ep 25 - roll-out time: 0.86 seconds, training time: 9.52 seconds\n",
      "16:02:33 | MAIN | INFO | Roll-out completed for episode 26. Training started...\n",
      "16:02:42 | MAIN | INFO | ep 26 - roll-out time: 0.85 seconds, training time: 9.39 seconds\n",
      "16:02:43 | MAIN | INFO | Roll-out completed for episode 27. Training started...\n",
      "16:02:53 | MAIN | INFO | ep 27 - roll-out time: 0.85 seconds, training time: 9.54 seconds\n",
      "16:02:53 | MAIN | INFO | Roll-out completed for episode 28. Training started...\n",
      "16:03:03 | MAIN | INFO | ep 28 - roll-out time: 0.85 seconds, training time: 9.36 seconds\n",
      "16:03:04 | MAIN | INFO | Roll-out completed for episode 29. Training started...\n",
      "16:03:13 | MAIN | INFO | ep 29 - roll-out time: 0.86 seconds, training time: 9.47 seconds\n",
      "16:03:14 | MAIN | INFO | Roll-out completed for episode 30. Training started...\n",
      "16:03:23 | MAIN | INFO | ep 30 - roll-out time: 0.86 seconds, training time: 9.37 seconds\n",
      "16:03:25 | Update Max Eval Reward to: -19,056.00\n",
      "16:03:25 | Start render...\n",
      "16:03:26 | Start post update product metrics...\n",
      "16:03:26 | Start dump product metrics...\n",
      "16:03:27 | product metrics dumped to csv\n",
      "16:03:27 | Max Eval Reward: -19,056.00\n",
      "16:03:27 | MAIN | INFO | Roll-out completed for episode 31. Training started...\n",
      "16:03:37 | MAIN | INFO | ep 31 - roll-out time: 0.85 seconds, training time: 9.49 seconds\n",
      "16:03:38 | MAIN | INFO | Roll-out completed for episode 32. Training started...\n",
      "16:03:47 | MAIN | INFO | ep 32 - roll-out time: 0.86 seconds, training time: 9.45 seconds\n",
      "16:03:48 | MAIN | INFO | Roll-out completed for episode 33. Training started...\n",
      "16:03:58 | MAIN | INFO | ep 33 - roll-out time: 0.86 seconds, training time: 9.51 seconds\n",
      "16:03:58 | MAIN | INFO | Roll-out completed for episode 34. Training started...\n",
      "16:04:07 | MAIN | INFO | ep 34 - roll-out time: 0.85 seconds, training time: 8.87 seconds\n",
      "16:04:08 | MAIN | INFO | Roll-out completed for episode 35. Training started...\n",
      "16:04:17 | MAIN | INFO | ep 35 - roll-out time: 0.85 seconds, training time: 8.79 seconds\n",
      "16:04:18 | MAIN | INFO | Roll-out completed for episode 36. Training started...\n",
      "16:04:28 | MAIN | INFO | ep 36 - roll-out time: 0.87 seconds, training time: 9.85 seconds\n",
      "16:04:28 | MAIN | INFO | Roll-out completed for episode 37. Training started...\n",
      "16:04:38 | MAIN | INFO | ep 37 - roll-out time: 0.85 seconds, training time: 9.34 seconds\n",
      "16:04:39 | MAIN | INFO | Roll-out completed for episode 38. Training started...\n",
      "16:04:48 | MAIN | INFO | ep 38 - roll-out time: 0.86 seconds, training time: 9.39 seconds\n",
      "16:04:49 | MAIN | INFO | Roll-out completed for episode 39. Training started...\n",
      "16:04:58 | MAIN | INFO | ep 39 - roll-out time: 0.85 seconds, training time: 9.20 seconds\n",
      "16:04:59 | MAIN | INFO | Roll-out completed for episode 40. Training started...\n",
      "16:05:09 | MAIN | INFO | All trainer states saved under checkpoint/rl_job/supply_chain/40\n",
      "16:05:09 | MAIN | INFO | ep 40 - roll-out time: 0.88 seconds, training time: 9.52 seconds\n",
      "16:05:10 | Max Eval Reward: -19,056.00\n",
      "16:05:11 | MAIN | INFO | Roll-out completed for episode 41. Training started...\n",
      "16:05:20 | MAIN | INFO | ep 41 - roll-out time: 0.86 seconds, training time: 9.73 seconds\n",
      "16:05:21 | MAIN | INFO | Roll-out completed for episode 42. Training started...\n",
      "16:05:31 | MAIN | INFO | ep 42 - roll-out time: 0.87 seconds, training time: 9.54 seconds\n",
      "16:05:32 | MAIN | INFO | Roll-out completed for episode 43. Training started...\n",
      "16:05:41 | MAIN | INFO | ep 43 - roll-out time: 0.86 seconds, training time: 9.88 seconds\n",
      "16:05:42 | MAIN | INFO | Roll-out completed for episode 44. Training started...\n",
      "16:05:52 | MAIN | INFO | ep 44 - roll-out time: 0.86 seconds, training time: 9.36 seconds\n",
      "16:05:53 | MAIN | INFO | Roll-out completed for episode 45. Training started...\n",
      "16:06:02 | MAIN | INFO | ep 45 - roll-out time: 0.85 seconds, training time: 9.54 seconds\n",
      "16:06:03 | MAIN | INFO | Roll-out completed for episode 46. Training started...\n",
      "16:06:12 | MAIN | INFO | ep 46 - roll-out time: 0.90 seconds, training time: 8.94 seconds\n",
      "16:06:13 | MAIN | INFO | Roll-out completed for episode 47. Training started...\n",
      "16:06:22 | MAIN | INFO | ep 47 - roll-out time: 0.85 seconds, training time: 9.40 seconds\n",
      "16:06:23 | MAIN | INFO | Roll-out completed for episode 48. Training started...\n",
      "16:06:33 | MAIN | INFO | ep 48 - roll-out time: 0.86 seconds, training time: 9.46 seconds\n",
      "16:06:33 | MAIN | INFO | Roll-out completed for episode 49. Training started...\n",
      "16:06:43 | MAIN | INFO | ep 49 - roll-out time: 0.87 seconds, training time: 9.68 seconds\n",
      "16:06:44 | MAIN | INFO | Roll-out completed for episode 50. Training started...\n",
      "16:06:53 | MAIN | INFO | ep 50 - roll-out time: 0.87 seconds, training time: 9.44 seconds\n",
      "16:06:55 | Max Eval Reward: -19,056.00\n"
     ]
    }
   ],
   "source": [
    "! python examples/rl/run_rl_example.py examples/rl/sc_single_echelon.yml"
   ]
  },
  {
   "cell_type": "markdown",
   "metadata": {},
   "source": []
  }
 ],
 "metadata": {
  "kernelspec": {
   "display_name": "maro",
   "language": "python",
   "name": "python3"
  },
  "language_info": {
   "codemirror_mode": {
    "name": "ipython",
    "version": 3
   },
   "file_extension": ".py",
   "mimetype": "text/x-python",
   "name": "python",
   "nbconvert_exporter": "python",
   "pygments_lexer": "ipython3",
   "version": "3.7.12"
  }
 },
 "nbformat": 4,
 "nbformat_minor": 2
}
