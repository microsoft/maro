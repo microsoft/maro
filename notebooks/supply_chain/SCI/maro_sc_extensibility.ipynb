{
 "cells": [
  {
   "cell_type": "markdown",
   "id": "708557bf",
   "metadata": {},
   "source": [
    "# MARO  Supply Chain Extensibility Example"
   ]
  },
  {
   "cell_type": "markdown",
   "id": "c9b7e16c",
   "metadata": {
    "heading_collapsed": true
   },
   "source": [
    "## Prerequisite"
   ]
  },
  {
   "cell_type": "code",
   "execution_count": 2,
   "id": "f54d4f67",
   "metadata": {
    "hidden": true
   },
   "outputs": [],
   "source": [
    "import os\n",
    "from typing import Dict"
   ]
  },
  {
   "cell_type": "code",
   "execution_count": 2,
   "id": "60fa3e64",
   "metadata": {
    "hidden": true
   },
   "outputs": [],
   "source": [
    "sc_root = \"/home/jinyu/maro/maro/simulator/scenarios/supply_chain\""
   ]
  },
  {
   "cell_type": "code",
   "execution_count": 3,
   "id": "4b91ce36",
   "metadata": {
    "hidden": true
   },
   "outputs": [],
   "source": [
    "def bold(text: str):\n",
    "    return f\"\\033[1m{text}\\033[0m\"\n",
    "\n",
    "def dirTree(dir):\n",
    "    all_files = os.listdir(dir)\n",
    "    dirs = [\n",
    "        bold(name) for name in all_files\n",
    "        if name not in [\"__pycache__\"] and os.path.isdir(os.path.join(dir, name))\n",
    "        and (\"SCI_\" not in name or name == \"SCI_1.1\") \n",
    "    ]\n",
    "    files = [\n",
    "        name for name in all_files\n",
    "        if name not in [\"__init__.py\"] and os.path.isfile(os.path.join(dir, name))\n",
    "    ]\n",
    "    print(f\"|____{bold(os.path.split(dir)[1])}\")\n",
    "    for filename in dirs + files:\n",
    "        print(f\"  |____{filename}\")"
   ]
  },
  {
   "cell_type": "markdown",
   "id": "823676b2",
   "metadata": {
    "heading_collapsed": true
   },
   "source": [
    "## File Topology"
   ]
  },
  {
   "cell_type": "markdown",
   "id": "5bf0b1d0",
   "metadata": {
    "hidden": true
   },
   "source": [
    "Supply Chain simulator folder"
   ]
  },
  {
   "cell_type": "code",
   "execution_count": 4,
   "id": "f39e679c",
   "metadata": {
    "hidden": true
   },
   "outputs": [
    {
     "name": "stdout",
     "output_type": "stream",
     "text": [
      "|____\u001b[1msupply_chain\u001b[0m\n",
      "  |____\u001b[1mdatamodels\u001b[0m\n",
      "  |____\u001b[1mfacilities\u001b[0m\n",
      "  |____\u001b[1mtopologies\u001b[0m\n",
      "  |____\u001b[1munits\u001b[0m\n",
      "  |____order.py\n",
      "  |____business_engine.py\n",
      "  |____parser.py\n",
      "  |____world.py\n",
      "  |____objects.py\n",
      "  |____frame_builder.py\n",
      "  |____sku_dynamics_sampler.py\n",
      "  |____actions.py\n"
     ]
    }
   ],
   "source": [
    "dirTree(sc_root)"
   ]
  },
  {
   "cell_type": "markdown",
   "id": "1934c5f3",
   "metadata": {
    "heading_collapsed": true,
    "hidden": true
   },
   "source": [
    "### facilities"
   ]
  },
  {
   "cell_type": "markdown",
   "id": "4c1a2025",
   "metadata": {
    "hidden": true
   },
   "source": [
    "New types of facilities could be added under folder **facilities**:\n",
    "- `Supplier`: Usually used to simulate the facility providing products to downstream facilities. Corresponds to the **Vendor** & the **Plant**s in SCI scenario.\n",
    "- `Warehouse`: Usually used to simulate the facility temporarily holding a lot of products. Corresponds to the **Storage Warehouse**s in SCI scenario.\n",
    "- `Retailer`: Usually used to simulate the facility selling products to the end-point customers. Corresponds to the **Store**s in SCI scenario."
   ]
  },
  {
   "cell_type": "code",
   "execution_count": 5,
   "id": "aabe24cc",
   "metadata": {
    "hidden": true
   },
   "outputs": [
    {
     "name": "stdout",
     "output_type": "stream",
     "text": [
      "|____\u001b[1mfacilities\u001b[0m\n",
      "  |____supplier.py\n",
      "  |____warehouse.py\n",
      "  |____facility.py\n",
      "  |____retailer.py\n"
     ]
    }
   ],
   "source": [
    "dirTree(os.path.join(sc_root, \"facilities\"))"
   ]
  },
  {
   "cell_type": "markdown",
   "id": "6b485ea5",
   "metadata": {
    "heading_collapsed": true,
    "hidden": true
   },
   "source": [
    "### units"
   ]
  },
  {
   "cell_type": "markdown",
   "id": "fd7737c4",
   "metadata": {
    "hidden": true
   },
   "source": [
    "Functional units are defined under folder **units**:\n",
    "- `Storage Unit`: For product storage. Handle the try_get_product() and try_add_product() actions, so as to maintain a correct inventory level. One storage unit correponds to one facility.  \n",
    "- `Distribution Unit`: For receiving the orders from downstream facilities and in charge of product delivery to downstreams. One distribution unit correponds to one facility.\n",
    "- `Porduct Unit`: The function combination for one specific product in one facility. One product unit corresponds to one facility, but one facility may has many product units.\n",
    "  - `Consumer Unit`: The unit in charge of purchasing products from the upstream facilities. One product unit may have at most one consumer unit.\n",
    "  - `Seller Unit`: The unit in charge of selling products to the end-point customers. One product unit may have at most one seller unit.\n",
    "  - `Manufacture Unit`: The unit in charge of manufacturing products with given manufacture rate. One product unit may have at most one manufacture unit."
   ]
  },
  {
   "cell_type": "code",
   "execution_count": 6,
   "id": "ac67da94",
   "metadata": {
    "hidden": true
   },
   "outputs": [
    {
     "name": "stdout",
     "output_type": "stream",
     "text": [
      "|____\u001b[1munits\u001b[0m\n",
      "  |____distribution.py\n",
      "  |____extendunitbase.py\n",
      "  |____product.py\n",
      "  |____consumer.py\n",
      "  |____seller.py\n",
      "  |____storage.py\n",
      "  |____manufacture.py\n",
      "  |____unitbase.py\n"
     ]
    }
   ],
   "source": [
    "dirTree(os.path.join(sc_root, \"units\"))"
   ]
  },
  {
   "cell_type": "markdown",
   "id": "9f77622f",
   "metadata": {
    "heading_collapsed": true,
    "hidden": true
   },
   "source": [
    "### datamodels"
   ]
  },
  {
   "cell_type": "markdown",
   "id": "ccd125ab",
   "metadata": {
    "hidden": true
   },
   "source": [
    "**Data models** are used to track the important status of **units** or **facilities** tick by tick.\n",
    "It defines exactly what to save in the snapshot list, which means the whole historical data trajectory can be accessed at any time we need it."
   ]
  },
  {
   "cell_type": "code",
   "execution_count": 7,
   "id": "7256ed22",
   "metadata": {
    "hidden": true
   },
   "outputs": [
    {
     "name": "stdout",
     "output_type": "stream",
     "text": [
      "|____\u001b[1mdatamodels\u001b[0m\n",
      "  |____distribution.py\n",
      "  |____product.py\n",
      "  |____consumer.py\n",
      "  |____seller.py\n",
      "  |____storage.py\n",
      "  |____base.py\n",
      "  |____manufacture.py\n",
      "  |____facility.py\n",
      "  |____extend.py\n"
     ]
    }
   ],
   "source": [
    "dirTree(os.path.join(sc_root, \"datamodels\"))"
   ]
  },
  {
   "cell_type": "markdown",
   "id": "b5472981",
   "metadata": {
    "heading_collapsed": true,
    "hidden": true
   },
   "source": [
    "### topologies"
   ]
  },
  {
   "cell_type": "markdown",
   "id": "6cc82152",
   "metadata": {
    "hidden": true
   },
   "source": [
    "The configuration files used to describe the topology network we want to simulate are saved in folder **Topologies**.\n",
    "\n",
    "- The file *core.yml* defines the main **Facility** and **Unit** we are going to use and connect the **Unit** with its corresponding **Data model** together.\n",
    "\n",
    "- Each topology folder corresponds to one topology/problem definition. The detailed configurations are written in the file *config.yml* as you can see the example below.  "
   ]
  },
  {
   "cell_type": "code",
   "execution_count": 8,
   "id": "f335fbee",
   "metadata": {
    "hidden": true
   },
   "outputs": [
    {
     "name": "stdout",
     "output_type": "stream",
     "text": [
      "|____\u001b[1mtopologies\u001b[0m\n",
      "  |____\u001b[1mplant\u001b[0m\n",
      "  |____\u001b[1mrandom\u001b[0m\n",
      "  |____\u001b[1msample\u001b[0m\n",
      "  |____\u001b[1msuper_vendor\u001b[0m\n",
      "  |____\u001b[1mSCI_1.1\u001b[0m\n",
      "  |____core.yml\n"
     ]
    }
   ],
   "source": [
    "dirTree(os.path.join(sc_root, \"topologies\"))"
   ]
  },
  {
   "cell_type": "code",
   "execution_count": 9,
   "id": "7d2f7fce",
   "metadata": {
    "hidden": true
   },
   "outputs": [
    {
     "name": "stdout",
     "output_type": "stream",
     "text": [
      "|____\u001b[1msuper_vendor\u001b[0m\n",
      "  |____config.yml\n"
     ]
    }
   ],
   "source": [
    "dirTree(os.path.join(sc_root, \"topologies/super_vendor\"))"
   ]
  },
  {
   "cell_type": "markdown",
   "id": "a5aea7a6",
   "metadata": {
    "heading_collapsed": true
   },
   "source": [
    "## Example I: Add a new Storage Unit to provide infinite stocks"
   ]
  },
  {
   "cell_type": "markdown",
   "id": "1efc6e0e",
   "metadata": {
    "hidden": true
   },
   "source": [
    "If we want to new Unit whose function is not covered by current existing Units, we need to follow these steps:\n",
    "1. Define the corresponding Unit.\n",
    "2. Add it to the `core.yml`.\n",
    "3. Modify or create a corresponding topology folder and the `config.yml` configuration file.\n",
    "4. Use the new or updated topology config to run your experiments."
   ]
  },
  {
   "cell_type": "markdown",
   "id": "dc5ad31d",
   "metadata": {
    "heading_collapsed": true,
    "hidden": true
   },
   "source": [
    "### Step 1: Define a new Super Storage Unit to support infinite product inventory."
   ]
  },
  {
   "cell_type": "markdown",
   "id": "4d315c88",
   "metadata": {
    "hidden": true
   },
   "source": [
    "Firstly, let's go through what a General Storage Unit may looks like:"
   ]
  },
  {
   "cell_type": "code",
   "execution_count": 10,
   "id": "ebf3bf29",
   "metadata": {
    "hidden": true
   },
   "outputs": [],
   "source": [
    "class StorageUnit():\n",
    "    _remaining_space: int\n",
    "    _product_level: Dict[int, int]\n",
    "\n",
    "    def try_add_products(self, product_quantities: Dict[int, int]) -> Dict[int, int]:\n",
    "        space_requirement = sum(quantity for quantity in product_quantities.values())\n",
    "        if space_requirement < self._remaining_space:\n",
    "            return {}\n",
    "\n",
    "        for sku_id, quantity in product_quantities.items():\n",
    "            self._product_level[sku_id] += quantity\n",
    "            \n",
    "        return product_quantities\n",
    "\n",
    "    def try_take_products(self, product_quantities: Dict[int, int]) -> bool:\n",
    "        # Check if we can take all kinds of products?\n",
    "        for sku_id, quantity in product_quantities.items():\n",
    "            if self._product_level[sku_id] < quantity:\n",
    "                return False\n",
    "\n",
    "        # Take from storage.\n",
    "        for sku_id, quantity in product_quantities.items():\n",
    "            self._product_level[sku_id] -= quantity\n",
    "\n",
    "        return True\n",
    "\n",
    "    def take_available(self, sku_id: int, quantity: int) -> int:\n",
    "        available = self._product_level[sku_id]\n",
    "        self._product_level[sku_id] -= min(available, quantity)\n",
    "        return actual"
   ]
  },
  {
   "cell_type": "markdown",
   "id": "1180efc7",
   "metadata": {
    "hidden": true
   },
   "source": [
    "Later, to support the infinite product inventory, we may need a new class like:"
   ]
  },
  {
   "cell_type": "code",
   "execution_count": 11,
   "id": "fb68bfb6",
   "metadata": {
    "hidden": true
   },
   "outputs": [],
   "source": [
    "class SuperStorageUnit():\n",
    "    def try_add_products(self, product_quantities: Dict[int, int]) -> Dict[int, int]:\n",
    "        return product_quantities\n",
    "\n",
    "    def try_take_products(self, product_quantities: Dict[int, int]) -> bool:\n",
    "        return True\n",
    "\n",
    "    def take_available(self, sku_id: int, quantity: int) -> int:\n",
    "        return quantity"
   ]
  },
  {
   "cell_type": "markdown",
   "id": "e6869a21",
   "metadata": {
    "hidden": true
   },
   "source": [
    "The `SuperStorageUnit` is simpler than the general `StorageUnit`, it just satisfy all the needs. As for the corresponding **Data Model**, there are nothing important to keep tracking for `SuperStorageUnit`, so we don't need to define new data model class for it."
   ]
  },
  {
   "cell_type": "markdown",
   "id": "93a32402",
   "metadata": {
    "heading_collapsed": true,
    "hidden": true
   },
   "source": [
    "### Step 2: Add the newly defined `SuperStorageUnit` to *core.yml* file."
   ]
  },
  {
   "cell_type": "markdown",
   "id": "9e4fee0f",
   "metadata": {
    "hidden": true
   },
   "source": [
    "Referring the orginal definition of general `StorageUnit`, we can add the definition like below:"
   ]
  },
  {
   "cell_type": "markdown",
   "id": "ea527166",
   "metadata": {
    "hidden": true
   },
   "source": [
    "```yaml\n",
    "datamodels:  # No updates to this part since we do not add any new data model.\n",
    "  ...\n",
    "\n",
    "units:\n",
    "  modules:\n",
    "    - path: \"maro.simulator.scenarios.supply_chain.units\"\n",
    "      definitions:\n",
    "        StorageUnit:  # The definition of the General Storage Unit.\n",
    "          class: \"StorageUnit\"\n",
    "          datamodel: \"StorageDataModel\"\n",
    "        SuperStorageUnit:  # The definition of the newly added Super Storage Unit.\n",
    "          class: \"SuperStorageUnit\"  # The class name of the newly added class.\n",
    "          datamodel: null  # Do not need any data model, so do not connect any data model to it.\n",
    "        ...\n",
    "\n",
    "facilities:  # No updates to this part since we do not add any new facility.\n",
    "  ...\n",
    "```"
   ]
  },
  {
   "cell_type": "markdown",
   "id": "68b96e2c",
   "metadata": {
    "heading_collapsed": true,
    "hidden": true
   },
   "source": [
    "### Step 3: Update the configuration in *config.yml* file."
   ]
  },
  {
   "cell_type": "markdown",
   "id": "ea437533",
   "metadata": {
    "hidden": true
   },
   "source": [
    "As you can see the details in *plant/config.yml*, we define and use the *VendorFacility* as below:"
   ]
  },
  {
   "cell_type": "markdown",
   "id": "cf4af374",
   "metadata": {
    "hidden": true
   },
   "source": [
    "```yaml\n",
    "facility_definitions:\n",
    "  VendorFacility:  # The definition of VendorFacility in topology plant.\n",
    "    class: \"SupplierFacility\"\n",
    "    datamodel: \"FacilityDataModel\"\n",
    "    children:\n",
    "      storage:\n",
    "        class: \"StorageUnit\"  # The Storage Unit to use for VendorFacility\n",
    "...\n",
    "world:\n",
    "  facilities:\n",
    "    - name: \"Vendor_001\"\n",
    "      definition_ref: \"VendorFacility\"  # Use the correspondind alias in facility_definitions part.\n",
    "      children:\n",
    "        storage:\n",
    "          config:  # The detailed configuration of the used Genral StorageUnit.\n",
    "            capacity: 80000\n",
    "            unit_storage_cost: 0.1\n",
    "...\n",
    "```"
   ]
  },
  {
   "cell_type": "markdown",
   "id": "aa93eb2d",
   "metadata": {
    "hidden": true
   },
   "source": [
    "To use the `SuperStorageUnit` instead in super_vendor topology, we modify this part in *super_vendor/config.yml* as below:"
   ]
  },
  {
   "cell_type": "markdown",
   "id": "3240e685",
   "metadata": {
    "hidden": true
   },
   "source": [
    "```yaml\n",
    "facility_definitions:\n",
    "  SuperVendor:  # The definition of SuperVendor in topology super_vendor. A different alias is used here.\n",
    "    class: \"SupplierFacility\"\n",
    "    datamodel: \"FacilityDataModel\"\n",
    "    children:\n",
    "      storage:\n",
    "        class: \"SuperStorageUnit\"  # Use the SuperStorageUnit instead.\n",
    "...\n",
    "world:\n",
    "  facilities:\n",
    "    - name: \"Vendor_001\"\n",
    "      definition_ref: \"SuperVendor\"  # Use the correspondind alias in facility_definitions part.\n",
    "      children:\n",
    "        storage:\n",
    "          config:  # The detailed configuration of the used SuperStorageUnit.\n",
    "            capacity: null  # null indicates infinite storage capacity.\n",
    "            unit_storage_cost: 0  # Not need to count the storage cost for this kind of Storage Unit.\n",
    "...\n",
    "```"
   ]
  },
  {
   "cell_type": "markdown",
   "id": "2e3ea841",
   "metadata": {
    "heading_collapsed": true,
    "hidden": true
   },
   "source": [
    "### Step 4: Create an env instance with the newly defined topology name as the parameter. "
   ]
  },
  {
   "cell_type": "markdown",
   "id": "2f65b36b",
   "metadata": {
    "hidden": true
   },
   "source": [
    "Create env instance with the orginal *plant* topology would be:\n",
    "```py\n",
    "env = Env(scenario=\"supply_chain\", topology=\"plant\", start_tick=0, durations=100)\n",
    "```\n",
    "\n",
    "You can simply modify the given topology parameter to the name of the newly created topology if you put the topology config under folder *supply_chain/topologies*, take &super_vendor* as the example, it would be:\n",
    "```py\n",
    "env = Env(scenario=\"supply_chain\", topology=\"super_vendor\", start_tick=0, durations=100)\n",
    "```"
   ]
  },
  {
   "cell_type": "markdown",
   "id": "97c19aca",
   "metadata": {
    "heading_collapsed": true
   },
   "source": [
    "## Example II: Define and change the route network"
   ]
  },
  {
   "cell_type": "markdown",
   "id": "009182d5",
   "metadata": {
    "hidden": true
   },
   "source": [
    "The route network of a topology is defined in `world.topology` part in *config.yml* file. For each downstream facility's each product, we should specify the upstream facility and the correponding transportation cost & leading time info."
   ]
  },
  {
   "cell_type": "markdown",
   "id": "9fbbf507",
   "metadata": {
    "heading_collapsed": true,
    "hidden": true
   },
   "source": [
    "### A simple route network with 3 facilities, 2 products and 3 routes"
   ]
  },
  {
   "cell_type": "markdown",
   "id": "f077e4ac",
   "metadata": {
    "hidden": true
   },
   "source": [
    "For example, assume we have Facility **Warehouse_001**, **Store_001**, **Store_002**, and we want the route network like:"
   ]
  },
  {
   "cell_type": "markdown",
   "id": "a21f22bb",
   "metadata": {
    "hidden": true
   },
   "source": [
    "[![](https://mermaid.ink/img/pako:eNp1kMFqg0AQhl9lmVMKGtTQHhZSSNLecoqHXBbC4I5V0F1ZZwsh-u7ZJlYK0jkNH_838M8NCqsJJHw57CpxPCkjwuxWZ3RUWd_TJUnSlyfdr3K27i85zCSbyE7E8ftQWqsvqRQlyhJjdlgb8d3wNotEYXveJuu3QewXRrY0NrPxOojD_0bXoKGHkU5Gtk6CARG05FqsdSh5-_EVcEUtKZBh1VSib1iBMmOI-k4j06euQysIZ5ueIkDPNr-aAiQ7T7-hjxrDz9opNd4BVOtmcg)](https://mermaid-js.github.io/mermaid-live-editor/edit#pako:eNp1kMFqg0AQhl9lmVMKGtTQHhZSSNLecoqHXBbC4I5V0F1ZZwsh-u7ZJlYK0jkNH_838M8NCqsJJHw57CpxPCkjwuxWZ3RUWd_TJUnSlyfdr3K27i85zCSbyE7E8ftQWqsvqRQlyhJjdlgb8d3wNotEYXveJuu3QewXRrY0NrPxOojD_0bXoKGHkU5Gtk6CARG05FqsdSh5-_EVcEUtKZBh1VSib1iBMmOI-k4j06euQysIZ5ueIkDPNr-aAiQ7T7-hjxrDz9opNd4BVOtmcg)"
   ]
  },
  {
   "cell_type": "markdown",
   "id": "c670174e",
   "metadata": {
    "hidden": true
   },
   "source": [
    "We can define the part `world.topology` as below:"
   ]
  },
  {
   "cell_type": "markdown",
   "id": "059d2828",
   "metadata": {
    "hidden": true
   },
   "source": [
    "```yaml\n",
    "world:\n",
    "  ...\n",
    "  topology:\n",
    "    \"Store_001\":  # Store_001 as the downstream facility.\n",
    "      \"food_1\":   # For product food_1.\n",
    "        \"Warehouse_001\":  # Warehouse_001 as the upstream facility.\n",
    "          \"train\":  # Only 1 kind of route/vehicle type.\n",
    "            vlt: 2\n",
    "            cost: 0.6\n",
    "    \"Store_002\":  # Store_002 as the downstream facility.\n",
    "      \"food_2\":   # For product food_2.\n",
    "        \"Warehouse_001\":  # Warehouse_001 as the upstream facility\n",
    "          \"train\":  # There are 2 kinds of routes/vehicle types. The first one is by train.\n",
    "            vlt: 3\n",
    "            cost: 0.5\n",
    "          \"air\":    # The second one is by air.\n",
    "            vlt: 1\n",
    "            cost: 2.0\n",
    "```"
   ]
  },
  {
   "cell_type": "markdown",
   "id": "1876a2d5",
   "metadata": {
    "heading_collapsed": true,
    "hidden": true
   },
   "source": [
    "### Extend the route network to 5 routes"
   ]
  },
  {
   "cell_type": "markdown",
   "id": "65be68e5",
   "metadata": {
    "hidden": true
   },
   "source": [
    "If we want to delivery *food_2* from both **Warehouse_001** and **Store_002** to **Store_001**, and build up a route network like:"
   ]
  },
  {
   "cell_type": "markdown",
   "id": "3787ba14",
   "metadata": {
    "hidden": true
   },
   "source": [
    "[![](https://mermaid.ink/img/pako:eNqN0VFrwjAQB_CvEu5JoZW2wzECDrT6tqf5sJeAHM11LbRJSS_CsH53M9eVwVDMU_jz_4Vwd4LCagIJnw67Sry9KyPCWc8-0FFlfU-HJEnnP-lmtmfr_ib5lGRjshZx_DqU1upDKkWJssSYHdZGHBteZZEobM-rZPE8iM0_kd0TLw-Kp0ksB5HfFl2Dhq4iHUW2SCaRPyTS668ggpZci7UOgzx9ewVcUUsKZLhqKtE3rECZc6j6TiPTTtdhchCebXqKAD3b_ZcpQLLz9Fva1hj20o6t8wVi6oRm)](https://mermaid-js.github.io/mermaid-live-editor/edit#pako:eNqN0VFrwjAQB_CvEu5JoZW2wzECDrT6tqf5sJeAHM11LbRJSS_CsH53M9eVwVDMU_jz_4Vwd4LCagIJnw67Sry9KyPCWc8-0FFlfU-HJEnnP-lmtmfr_ib5lGRjshZx_DqU1upDKkWJssSYHdZGHBteZZEobM-rZPE8iM0_kd0TLw-Kp0ksB5HfFl2Dhq4iHUW2SCaRPyTS668ggpZci7UOgzx9ewVcUUsKZLhqKtE3rECZc6j6TiPTTtdhchCebXqKAD3b_ZcpQLLz9Fva1hj20o6t8wVi6oRm)"
   ]
  },
  {
   "cell_type": "markdown",
   "id": "cd7e4c97",
   "metadata": {
    "hidden": true
   },
   "source": [
    "We can update the `world.topology` part to:"
   ]
  },
  {
   "cell_type": "markdown",
   "id": "1adab86e",
   "metadata": {
    "hidden": true
   },
   "source": [
    "```yaml\n",
    "world:\n",
    "  ...\n",
    "  topology:\n",
    "    \"Store_001\":\n",
    "      \"food_1\":\n",
    "        \"Warehouse_001\":\n",
    "          \"train\":\n",
    "            vlt: 2\n",
    "            cost: 0.6\n",
    "      \"food_2\":  # Newly added product.\n",
    "        \"Warehouse_001\":  # Store_001 can purchase food_2 from Warehouse_001 by train.\n",
    "          \"train\":\n",
    "            vlt: 2\n",
    "            cost: 0.8\n",
    "        \"Store_002\":  # Store_001 can also purchase food_2 from Store_002 by air.\n",
    "          \"air\":\n",
    "            vlt: 1\n",
    "            cost: 1.8\n",
    "    \"Store_002\":\n",
    "      \"food_2\":\n",
    "        \"Warehouse_001\":\n",
    "          \"train\":\n",
    "            vlt: 3\n",
    "            cost: 0.5\n",
    "          \"air\":\n",
    "            vlt: 1\n",
    "            cost: 2.0\n",
    "```"
   ]
  },
  {
   "cell_type": "code",
   "execution_count": null,
   "id": "ef05cec5",
   "metadata": {},
   "outputs": [],
   "source": []
  }
 ],
 "metadata": {
  "kernelspec": {
   "display_name": "Python (maro)",
   "language": "python",
   "name": "maro"
  },
  "language_info": {
   "codemirror_mode": {
    "name": "ipython",
    "version": 3
   },
   "file_extension": ".py",
   "mimetype": "text/x-python",
   "name": "python",
   "nbconvert_exporter": "python",
   "pygments_lexer": "ipython3",
   "version": "3.7.13"
  },
  "toc": {
   "base_numbering": 1,
   "nav_menu": {},
   "number_sections": true,
   "sideBar": true,
   "skip_h1_title": true,
   "title_cell": "Table of Contents",
   "title_sidebar": "Contents",
   "toc_cell": false,
   "toc_position": {
    "height": "calc(100% - 180px)",
    "left": "10px",
    "top": "150px",
    "width": "165px"
   },
   "toc_section_display": true,
   "toc_window_display": true
  }
 },
 "nbformat": 4,
 "nbformat_minor": 5
}
