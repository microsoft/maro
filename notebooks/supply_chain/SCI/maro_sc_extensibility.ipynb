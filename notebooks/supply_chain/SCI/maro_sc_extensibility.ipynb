{
 "cells": [
  {
   "cell_type": "markdown",
   "id": "708557bf",
   "metadata": {},
   "source": [
    "# MARO  Supply Chain Extensibility Example"
   ]
  },
  {
   "cell_type": "markdown",
   "id": "c9b7e16c",
   "metadata": {},
   "source": [
    "## Prerequisite"
   ]
  },
  {
   "cell_type": "code",
   "execution_count": null,
   "id": "f54d4f67",
   "metadata": {},
   "outputs": [],
   "source": [
    "import os\n",
    "from typing import Dict\n",
    "\n",
    "%reload_ext mermaid"
   ]
  },
  {
   "cell_type": "code",
   "execution_count": 2,
   "id": "60fa3e64",
   "metadata": {},
   "outputs": [],
   "source": [
    "sc_root = \"/home/jinyu/maro/maro/simulator/scenarios/supply_chain\""
   ]
  },
  {
   "cell_type": "code",
   "execution_count": 3,
   "id": "4b91ce36",
   "metadata": {},
   "outputs": [],
   "source": [
    "def bold(text: str):\n",
    "    return f\"\\033[1m{text}\\033[0m\"\n",
    "\n",
    "def dirTree(dir):\n",
    "    all_files = os.listdir(dir)\n",
    "    dirs = [\n",
    "        bold(name) for name in all_files\n",
    "        if name not in [\"__pycache__\"] and os.path.isdir(os.path.join(dir, name))\n",
    "        and (\"SCI_\" not in name or name == \"SCI_1.1\") \n",
    "    ]\n",
    "    files = [\n",
    "        name for name in all_files\n",
    "        if name not in [\"__init__.py\"] and os.path.isfile(os.path.join(dir, name))\n",
    "    ]\n",
    "    print(f\"|____{bold(os.path.split(dir)[1])}\")\n",
    "    for filename in dirs + files:\n",
    "        print(f\"  |____{filename}\")"
   ]
  },
  {
   "cell_type": "code",
   "execution_count": null,
   "id": "31180507",
   "metadata": {},
   "outputs": [],
   "source": []
  },
  {
   "cell_type": "markdown",
   "id": "823676b2",
   "metadata": {},
   "source": [
    "## File Topology"
   ]
  },
  {
   "cell_type": "markdown",
   "id": "5bf0b1d0",
   "metadata": {},
   "source": [
    "Supply Chain simulator folder"
   ]
  },
  {
   "cell_type": "code",
   "execution_count": 4,
   "id": "f39e679c",
   "metadata": {},
   "outputs": [
    {
     "name": "stdout",
     "output_type": "stream",
     "text": [
      "|____\u001b[1msupply_chain\u001b[0m\n",
      "  |____\u001b[1mdatamodels\u001b[0m\n",
      "  |____\u001b[1mfacilities\u001b[0m\n",
      "  |____\u001b[1mtopologies\u001b[0m\n",
      "  |____\u001b[1munits\u001b[0m\n",
      "  |____order.py\n",
      "  |____business_engine.py\n",
      "  |____parser.py\n",
      "  |____world.py\n",
      "  |____objects.py\n",
      "  |____frame_builder.py\n",
      "  |____sku_dynamics_sampler.py\n",
      "  |____actions.py\n"
     ]
    }
   ],
   "source": [
    "dirTree(sc_root)"
   ]
  },
  {
   "cell_type": "markdown",
   "id": "4c1a2025",
   "metadata": {},
   "source": [
    "New types of facilities could be added under folder **facilities**:\n",
    "- `Supplier`: Usually used to simulate the facility providing products to downstream facilities. Corresponds to the **Vendor** & the **Plant**s in SCI scenario.\n",
    "- `Warehouse`: Usually used to simulate the facility temporarily holding a lot of products. Corresponds to the **Storage Warehouse**s in SCI scenario.\n",
    "- `Retailer`: Usually used to simulate the facility selling products to the end-point customers. Corresponds to the **Store**s in SCI scenario."
   ]
  },
  {
   "cell_type": "code",
   "execution_count": 5,
   "id": "aabe24cc",
   "metadata": {},
   "outputs": [
    {
     "name": "stdout",
     "output_type": "stream",
     "text": [
      "|____\u001b[1mfacilities\u001b[0m\n",
      "  |____supplier.py\n",
      "  |____warehouse.py\n",
      "  |____facility.py\n",
      "  |____retailer.py\n"
     ]
    }
   ],
   "source": [
    "dirTree(os.path.join(sc_root, \"facilities\"))"
   ]
  },
  {
   "cell_type": "markdown",
   "id": "fd7737c4",
   "metadata": {},
   "source": [
    "Functional units are defined under folder **units**:\n",
    "- `Storage Unit`: For product storage. Handle the try_get_product() and try_add_product() actions, so as to maintain a correct inventory level. One storage unit correponds to one facility.  \n",
    "- `Distribution Unit`: For receiving the orders from downstream facilities and in charge of product delivery to downstreams. One distribution unit correponds to one facility.\n",
    "- `Porduct Unit`: The function combination for one specific product in one facility. One product unit corresponds to one facility, but one facility may has many product units.\n",
    "  - `Consumer Unit`: The unit in charge of purchasing products from the upstream facilities. One product unit may have at most one consumer unit.\n",
    "  - `Seller Unit`: The unit in charge of selling products to the end-point customers. One product unit may have at most one seller unit.\n",
    "  - `Manufacture Unit`: The unit in charge of manufacturing products with given manufacture rate. One product unit may have at most one manufacture unit."
   ]
  },
  {
   "cell_type": "code",
   "execution_count": 6,
   "id": "ac67da94",
   "metadata": {},
   "outputs": [
    {
     "name": "stdout",
     "output_type": "stream",
     "text": [
      "|____\u001b[1munits\u001b[0m\n",
      "  |____distribution.py\n",
      "  |____extendunitbase.py\n",
      "  |____product.py\n",
      "  |____consumer.py\n",
      "  |____seller.py\n",
      "  |____storage.py\n",
      "  |____manufacture.py\n",
      "  |____unitbase.py\n"
     ]
    }
   ],
   "source": [
    "dirTree(os.path.join(sc_root, \"units\"))"
   ]
  },
  {
   "cell_type": "markdown",
   "id": "ccd125ab",
   "metadata": {},
   "source": [
    "**Data models** are used to track the important status of **units** or **facilities** tick by tick.\n",
    "It defines exactly what to save in the snapshot list, which means the whole historical data trajectory can be accessed at any time we need it."
   ]
  },
  {
   "cell_type": "code",
   "execution_count": 7,
   "id": "7256ed22",
   "metadata": {},
   "outputs": [
    {
     "name": "stdout",
     "output_type": "stream",
     "text": [
      "|____\u001b[1mdatamodels\u001b[0m\n",
      "  |____distribution.py\n",
      "  |____product.py\n",
      "  |____consumer.py\n",
      "  |____seller.py\n",
      "  |____storage.py\n",
      "  |____base.py\n",
      "  |____manufacture.py\n",
      "  |____facility.py\n",
      "  |____extend.py\n"
     ]
    }
   ],
   "source": [
    "dirTree(os.path.join(sc_root, \"datamodels\"))"
   ]
  },
  {
   "cell_type": "markdown",
   "id": "6cc82152",
   "metadata": {},
   "source": [
    "The configuration files used to describe the topology network we want to simulate are saved in folder **Topologies**.\n",
    "\n",
    "- The file *core.yml* defines the main **Facility** and **Unit** we are going to use and connect the **Unit** with its corresponding **Data model** together.\n",
    "\n",
    "- Each topology folder corresponds to one topology/problem definition. The detailed configurations are written in the file *config.yml* as you can see the example below.  "
   ]
  },
  {
   "cell_type": "code",
   "execution_count": 8,
   "id": "f335fbee",
   "metadata": {},
   "outputs": [
    {
     "name": "stdout",
     "output_type": "stream",
     "text": [
      "|____\u001b[1mtopologies\u001b[0m\n",
      "  |____\u001b[1mplant\u001b[0m\n",
      "  |____\u001b[1mrandom\u001b[0m\n",
      "  |____\u001b[1msample\u001b[0m\n",
      "  |____\u001b[1msuper_vendor\u001b[0m\n",
      "  |____\u001b[1mSCI_1.1\u001b[0m\n",
      "  |____core.yml\n"
     ]
    }
   ],
   "source": [
    "dirTree(os.path.join(sc_root, \"topologies\"))"
   ]
  },
  {
   "cell_type": "code",
   "execution_count": 9,
   "id": "7d2f7fce",
   "metadata": {},
   "outputs": [
    {
     "name": "stdout",
     "output_type": "stream",
     "text": [
      "|____\u001b[1msuper_vendor\u001b[0m\n",
      "  |____config.yml\n"
     ]
    }
   ],
   "source": [
    "dirTree(os.path.join(sc_root, \"topologies/super_vendor\"))"
   ]
  },
  {
   "cell_type": "markdown",
   "id": "a5aea7a6",
   "metadata": {},
   "source": [
    "## Example I: add a new Storage Unit to provide infinite stocks"
   ]
  },
  {
   "cell_type": "markdown",
   "id": "1efc6e0e",
   "metadata": {},
   "source": [
    "If we want to new Unit whose function is not covered by current existing Units, we need to follow these steps:\n",
    "1. Define the corresponding Unit.\n",
    "2. Add it to the `core.yml`.\n",
    "3. Modify or create a corresponding topology folder and the `config.yml` configuration file.\n",
    "4. Use the new or updated topology config to run your experiments."
   ]
  },
  {
   "cell_type": "markdown",
   "id": "dc5ad31d",
   "metadata": {},
   "source": [
    "### Step 1: Define a new Super Storage Unit to support infinite product inventory."
   ]
  },
  {
   "cell_type": "markdown",
   "id": "4d315c88",
   "metadata": {},
   "source": [
    "Firstly, let's go through what a General Storage Unit may looks like:"
   ]
  },
  {
   "cell_type": "code",
   "execution_count": 10,
   "id": "ebf3bf29",
   "metadata": {},
   "outputs": [],
   "source": [
    "class StorageUnit():\n",
    "    _remaining_space: int\n",
    "    _product_level: Dict[int, int]\n",
    "\n",
    "    def try_add_products(self, product_quantities: Dict[int, int]) -> Dict[int, int]:\n",
    "        space_requirement = sum(quantity for quantity in product_quantities.values())\n",
    "        if space_requirement < self._remaining_space:\n",
    "            return {}\n",
    "\n",
    "        for sku_id, quantity in product_quantities.items():\n",
    "            self._product_level[sku_id] += quantity\n",
    "            \n",
    "        return product_quantities\n",
    "\n",
    "    def try_take_products(self, product_quantities: Dict[int, int]) -> bool:\n",
    "        # Check if we can take all kinds of products?\n",
    "        for sku_id, quantity in product_quantities.items():\n",
    "            if self._product_level[sku_id] < quantity:\n",
    "                return False\n",
    "\n",
    "        # Take from storage.\n",
    "        for sku_id, quantity in product_quantities.items():\n",
    "            self._product_level[sku_id] -= quantity\n",
    "\n",
    "        return True\n",
    "\n",
    "    def take_available(self, sku_id: int, quantity: int) -> int:\n",
    "        available = self._product_level[sku_id]\n",
    "        self._product_level[sku_id] -= min(available, quantity)\n",
    "        return actual"
   ]
  },
  {
   "cell_type": "markdown",
   "id": "1180efc7",
   "metadata": {},
   "source": [
    "Later, to support the infinite product inventory, we may need a new class like:"
   ]
  },
  {
   "cell_type": "code",
   "execution_count": 11,
   "id": "fb68bfb6",
   "metadata": {},
   "outputs": [],
   "source": [
    "class SuperStorageUnit():\n",
    "    def try_add_products(self, product_quantities: Dict[int, int]) -> Dict[int, int]:\n",
    "        return product_quantities\n",
    "\n",
    "    def try_take_products(self, product_quantities: Dict[int, int]) -> bool:\n",
    "        return True\n",
    "\n",
    "    def take_available(self, sku_id: int, quantity: int) -> int:\n",
    "        return quantity"
   ]
  },
  {
   "cell_type": "markdown",
   "id": "e6869a21",
   "metadata": {},
   "source": [
    "The `SuperStorageUnit` is simpler than the general `StorageUnit`, it just satisfy all the needs. As for the corresponding **Data Model**, there are nothing important to keep tracking for `SuperStorageUnit`, so we don't need to define new data model class for it."
   ]
  },
  {
   "cell_type": "markdown",
   "id": "93a32402",
   "metadata": {},
   "source": [
    "### Step 2: Add the newly defined `SuperStorageUnit` to *core.yml* file."
   ]
  },
  {
   "cell_type": "markdown",
   "id": "9e4fee0f",
   "metadata": {},
   "source": [
    "Referring the orginal definition of general `StorageUnit`, we can add the definition like below:"
   ]
  },
  {
   "cell_type": "markdown",
   "id": "ea527166",
   "metadata": {},
   "source": [
    "```yaml\n",
    "datamodels:  # No updates to this part since we do not add any new data model.\n",
    "  ...\n",
    "\n",
    "units:\n",
    "  modules:\n",
    "    - path: \"maro.simulator.scenarios.supply_chain.units\"\n",
    "      definitions:\n",
    "        StorageUnit:  # The definition of the General Storage Unit.\n",
    "          class: \"StorageUnit\"\n",
    "          datamodel: \"StorageDataModel\"\n",
    "        SuperStorageUnit:  # The definition of the newly added Super Storage Unit.\n",
    "          class: \"SuperStorageUnit\"  # The class name of the newly added class.\n",
    "          datamodel: null  # Do not need any data model, so do not connect any data model to it.\n",
    "        ...\n",
    "\n",
    "facilities:  # No updates to this part since we do not add any new facility.\n",
    "  ...\n",
    "```"
   ]
  },
  {
   "cell_type": "markdown",
   "id": "68b96e2c",
   "metadata": {},
   "source": [
    "### Step 3: Update the configuration in *config.yml* file."
   ]
  },
  {
   "cell_type": "markdown",
   "id": "ea437533",
   "metadata": {},
   "source": [
    "As you can see the details in *plant/config.yml*, we define and use the *VendorFacility* as below:"
   ]
  },
  {
   "cell_type": "markdown",
   "id": "cf4af374",
   "metadata": {},
   "source": [
    "```yaml\n",
    "facility_definitions:\n",
    "  VendorFacility:  # The definition of VendorFacility in topology plant.\n",
    "    class: \"SupplierFacility\"\n",
    "    datamodel: \"FacilityDataModel\"\n",
    "    children:\n",
    "      storage:\n",
    "        class: \"StorageUnit\"  # The Storage Unit to use for VendorFacility\n",
    "...\n",
    "world:\n",
    "  facilities:\n",
    "    - name: \"Vendor_001\"\n",
    "      definition_ref: \"VendorFacility\"  # Use the correspondind alias in facility_definitions part.\n",
    "      children:\n",
    "        storage:\n",
    "          config:  # The detailed configuration of the used Genral StorageUnit.\n",
    "            capacity: 80000\n",
    "            unit_storage_cost: 0.1\n",
    "...\n",
    "```"
   ]
  },
  {
   "cell_type": "markdown",
   "id": "aa93eb2d",
   "metadata": {},
   "source": [
    "To use the `SuperStorageUnit` instead in super_vendor topology, we modify this part in *super_vendor/config.yml* as below:"
   ]
  },
  {
   "cell_type": "markdown",
   "id": "3240e685",
   "metadata": {},
   "source": [
    "```yaml\n",
    "facility_definitions:\n",
    "  SuperVendor:  # The definition of SuperVendor in topology super_vendor. A different alias is used here.\n",
    "    class: \"SupplierFacility\"\n",
    "    datamodel: \"FacilityDataModel\"\n",
    "    children:\n",
    "      storage:\n",
    "        class: \"SuperStorageUnit\"  # Use the SuperStorageUnit instead.\n",
    "...\n",
    "world:\n",
    "  facilities:\n",
    "    - name: \"Vendor_001\"\n",
    "      definition_ref: \"SuperVendor\"  # Use the correspondind alias in facility_definitions part.\n",
    "      children:\n",
    "        storage:\n",
    "          config:  # The detailed configuration of the used SuperStorageUnit.\n",
    "            capacity: null  # null indicates infinite storage capacity.\n",
    "            unit_storage_cost: 0  # Not need to count the storage cost for this kind of Storage Unit.\n",
    "...\n",
    "```"
   ]
  },
  {
   "cell_type": "markdown",
   "id": "2e3ea841",
   "metadata": {},
   "source": [
    "### Step 4: Create an env instance with the newly defined topology name as the parameter. "
   ]
  },
  {
   "cell_type": "markdown",
   "id": "2f65b36b",
   "metadata": {},
   "source": [
    "Create env instance with the orginal *plant* topology would be:\n",
    "```py\n",
    "env = Env(scenario=\"supply_chain\", topology=\"plant\", start_tick=0, durations=100)\n",
    "```\n",
    "\n",
    "You can simply modify the given topology parameter to the name of the newly created topology if you put the topology config under folder *supply_chain/topologies*, take &super_vendor* as the example, it would be:\n",
    "```py\n",
    "env = Env(scenario=\"supply_chain\", topology=\"super_vendor\", start_tick=0, durations=100)\n",
    "```"
   ]
  },
  {
   "cell_type": "markdown",
   "id": "97c19aca",
   "metadata": {},
   "source": [
    "## Example II: Change the route network while keeping other configurations as the same."
   ]
  },
  {
   "cell_type": "markdown",
   "id": "009182d5",
   "metadata": {},
   "source": [
    "The route network of a topology is defined in `world.topology` part in *config.yml* file. For each downstream facility's each product, we should specify the upstream facility and the correponding transportation cost & leading time info."
   ]
  },
  {
   "cell_type": "markdown",
   "id": "f077e4ac",
   "metadata": {},
   "source": [
    "For example, assume we have Facility **Warehouse_001**, **Store_001**, **Store_002**, and we want the route network be like below:"
   ]
  },
  {
   "cell_type": "markdown",
   "id": "0fbffd46",
   "metadata": {},
   "source": [
    "```mermaid\n",
    "graph TB\n",
    "\n",
    "V(VNDR) --> P1\n",
    "\n",
    "V --> WC\n",
    "V --> WT\n",
    "V --> WW\n",
    "\n",
    "P1(PLANT_1) --> WC\n",
    "P1 --> WT\n",
    "P1 --> WW\n",
    "\n",
    "WC(STRG_CA) --> C1(CA_1)\n",
    "WC --> C2(CA_2)\n",
    "WC --> C3(CA_3)\n",
    "WC --> C4(CA_4)\n",
    "\n",
    "WT(STRG_TX) --> T1(TX_1)\n",
    "WT --> T2(TX_2)\n",
    "WT --> T3(TX_3)\n",
    "\n",
    "WW(STRG_WI) --> W1(WI_1)\n",
    "WW --> W2(WI_2)\n",
    "WW --> W3(WI_3)\n",
    "```"
   ]
  },
  {
   "cell_type": "markdown",
   "id": "c670174e",
   "metadata": {},
   "source": [
    "We can define the part `world.topology` as below:"
   ]
  },
  {
   "cell_type": "markdown",
   "id": "059d2828",
   "metadata": {},
   "source": [
    "```yaml\n",
    "world:\n",
    "  ...\n",
    "  topology:\n",
    "    \"Store_001\":  # Store_001 as the downstream facility.\n",
    "      \"food_1\":   # For product food_1.\n",
    "        \"Warehouse_001\":  # Warehouse_001 as the upstream facility.\n",
    "          \"train\":  # Only 1 kind of route/vehicle type.\n",
    "            vlt: 1\n",
    "            cost: 0.6\n",
    "      \"food_1\":   # For product food_2.\n",
    "        \"Warehouse_001\":\n",
    "          \"air\":  # There are 2 kinds of routes/vehicle types. The first one is by air.\n",
    "            vlt: 1\n",
    "            cost: 3.0\n",
    "          \"train\":  # The second one is by train.\n",
    "            vlt: 1\n",
    "            cost: 0.5\n",
    "\n",
    "    \"Store_002\":  # Store_002 as the downstream facility.\n",
    "      \"food_1\":\n",
    "        \"Warehouse_001\":\n",
    "          \"train\":\n",
    "            vlt: 2\n",
    "            cost: 0.5\n",
    "```"
   ]
  },
  {
   "cell_type": "code",
   "execution_count": null,
   "id": "e765f87e",
   "metadata": {},
   "outputs": [],
   "source": []
  }
 ],
 "metadata": {
  "kernelspec": {
   "display_name": "Python (maro)",
   "language": "python",
   "name": "maro"
  },
  "language_info": {
   "codemirror_mode": {
    "name": "ipython",
    "version": 3
   },
   "file_extension": ".py",
   "mimetype": "text/x-python",
   "name": "python",
   "nbconvert_exporter": "python",
   "pygments_lexer": "ipython3",
   "version": "3.7.13"
  }
 },
 "nbformat": 4,
 "nbformat_minor": 5
}
