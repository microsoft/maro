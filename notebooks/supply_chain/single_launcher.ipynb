{
 "cells": [
  {
   "cell_type": "code",
   "execution_count": 1,
   "id": "acd7d48c",
   "metadata": {},
   "outputs": [],
   "source": [
    "from maro.simulator import Env\n",
    "from pprint import pprint"
   ]
  },
  {
   "cell_type": "code",
   "execution_count": null,
   "id": "681386af",
   "metadata": {},
   "outputs": [],
   "source": [
    "env = Env(scenario=\"supply_chain\", topology=\"sample\", durations=64)"
   ]
  },
  {
   "cell_type": "code",
   "execution_count": 3,
   "id": "481e96f3",
   "metadata": {},
   "outputs": [
    {
     "name": "stdout",
     "output_type": "stream",
     "text": [
      "{'consumer': {'attributes': {'facility_id': {'slots': 1, 'type': 'int'},\n",
      "                             'id': {'slots': 1, 'type': 'int'},\n",
      "                             'latest_consumptions': {'slots': 1,\n",
      "                                                     'type': 'float'},\n",
      "                             'order_cost': {'slots': 1, 'type': 'float'},\n",
      "                             'order_product_cost': {'slots': 1, 'type': 'uint'},\n",
      "                             'product_id': {'slots': 1, 'type': 'uint'},\n",
      "                             'product_unit_id': {'slots': 1, 'type': 'uint'},\n",
      "                             'purchased': {'slots': 1, 'type': 'uint'},\n",
      "                             'received': {'slots': 1, 'type': 'uint'}},\n",
      "              'number': 7},\n",
      " 'distribution': {'attributes': {'facility_id': {'slots': 1, 'type': 'int'},\n",
      "                                 'id': {'slots': 1, 'type': 'int'},\n",
      "                                 'pending_order_number': {'slots': 1,\n",
      "                                                          'type': 'uint'},\n",
      "                                 'pending_product_quantity': {'slots': 1,\n",
      "                                                              'type': 'uint'}},\n",
      "                  'number': 3},\n",
      " 'facility': {'attributes': {'facility_id': {'slots': 1, 'type': 'int'},\n",
      "                             'id': {'slots': 1, 'type': 'int'}},\n",
      "              'number': 4},\n",
      " 'manufacture': {'attributes': {'facility_id': {'slots': 1, 'type': 'int'},\n",
      "                                'id': {'slots': 1, 'type': 'int'},\n",
      "                                'manufacture_quantity': {'slots': 1,\n",
      "                                                         'type': 'uint'},\n",
      "                                'product_id': {'slots': 1, 'type': 'uint'},\n",
      "                                'product_unit_cost': {'slots': 1,\n",
      "                                                      'type': 'float'},\n",
      "                                'product_unit_id': {'slots': 1,\n",
      "                                                    'type': 'uint'}},\n",
      "                 'number': 2},\n",
      " 'product': {'attributes': {'check_in_quantity_in_order': {'slots': 1,\n",
      "                                                           'type': 'uint'},\n",
      "                            'delay_order_penalty': {'slots': 1,\n",
      "                                                    'type': 'float'},\n",
      "                            'facility_id': {'slots': 1, 'type': 'int'},\n",
      "                            'id': {'slots': 1, 'type': 'int'},\n",
      "                            'price': {'slots': 1, 'type': 'float'},\n",
      "                            'product_id': {'slots': 1, 'type': 'uint'},\n",
      "                            'product_unit_id': {'slots': 1, 'type': 'uint'},\n",
      "                            'transportation_cost': {'slots': 1,\n",
      "                                                    'type': 'float'}},\n",
      "             'number': 9},\n",
      " 'seller': {'attributes': {'backlog_ratio': {'slots': 1, 'type': 'float'},\n",
      "                           'demand': {'slots': 1, 'type': 'uint'},\n",
      "                           'facility_id': {'slots': 1, 'type': 'int'},\n",
      "                           'id': {'slots': 1, 'type': 'int'},\n",
      "                           'price': {'slots': 1, 'type': 'float'},\n",
      "                           'product_id': {'slots': 1, 'type': 'uint'},\n",
      "                           'product_unit_id': {'slots': 1, 'type': 'uint'},\n",
      "                           'sold': {'slots': 1, 'type': 'uint'},\n",
      "                           'total_demand': {'slots': 1, 'type': 'uint'},\n",
      "                           'total_sold': {'slots': 1, 'type': 'uint'}},\n",
      "            'number': 3},\n",
      " 'storage': {'attributes': {'capacity': {'slots': 1, 'type': 'uint'},\n",
      "                            'facility_id': {'slots': 1, 'type': 'int'},\n",
      "                            'id': {'slots': 1, 'type': 'int'},\n",
      "                            'product_list': {'slots': 1, 'type': 'uint'},\n",
      "                            'product_quantity': {'slots': 1, 'type': 'uint'},\n",
      "                            'product_storage_index': {'slots': 1,\n",
      "                                                      'type': 'uint'},\n",
      "                            'remaining_space': {'slots': 1, 'type': 'uint'},\n",
      "                            'unit_storage_cost': {'slots': 1, 'type': 'float'}},\n",
      "             'number': 4},\n",
      " 'vehicle': {'attributes': {'facility_id': {'slots': 1, 'type': 'int'},\n",
      "                            'id': {'slots': 1, 'type': 'int'},\n",
      "                            'payload': {'slots': 1, 'type': 'uint'},\n",
      "                            'unit_transport_cost': {'slots': 1,\n",
      "                                                    'type': 'float'}},\n",
      "             'number': 6}}\n"
     ]
    }
   ],
   "source": [
    "pprint(env.summary['node_detail'])"
   ]
  },
  {
   "cell_type": "code",
   "execution_count": 4,
   "id": "83dfa669",
   "metadata": {},
   "outputs": [
    {
     "name": "stdout",
     "output_type": "stream",
     "text": [
      "{2: ('storage', 0, 1, None),\n",
      " 3: ('distribution', 0, 1, None),\n",
      " 4: ('vehicle', 0, 1, None),\n",
      " 5: ('vehicle', 1, 1, None),\n",
      " 6: ('product',\n",
      "     0,\n",
      "     1,\n",
      "     SkuInfo(id=3, init_stock=100, sub_storage_id=0, storage_upper_bound=None, backlog_ratio=0.0, cost=10, price=10, product_unit_cost=1, production_rate=1, sale_gamma=100, type='production', vlt=1, service_level=0.95)),\n",
      " 7: ('manufacture',\n",
      "     0,\n",
      "     1,\n",
      "     SkuInfo(id=3, init_stock=100, sub_storage_id=0, storage_upper_bound=None, backlog_ratio=0.0, cost=10, price=10, product_unit_cost=1, production_rate=1, sale_gamma=100, type='production', vlt=1, service_level=0.95)),\n",
      " 9: ('storage', 1, 8, None),\n",
      " 10: ('distribution', 1, 8, None),\n",
      " 11: ('vehicle', 2, 8, None),\n",
      " 12: ('vehicle', 3, 8, None),\n",
      " 13: ('product',\n",
      "      1,\n",
      "      8,\n",
      "      SkuInfo(id=1, init_stock=100, sub_storage_id=0, storage_upper_bound=None, backlog_ratio=0.0, cost=10, price=100, product_unit_cost=1, production_rate=1, sale_gamma=100, type='production', vlt=1, service_level=0.95)),\n",
      " 14: ('manufacture',\n",
      "      1,\n",
      "      8,\n",
      "      SkuInfo(id=1, init_stock=100, sub_storage_id=0, storage_upper_bound=None, backlog_ratio=0.0, cost=10, price=100, product_unit_cost=1, production_rate=1, sale_gamma=100, type='production', vlt=1, service_level=0.95)),\n",
      " 15: ('product',\n",
      "      2,\n",
      "      8,\n",
      "      SkuInfo(id=3, init_stock=100, sub_storage_id=0, storage_upper_bound=None, backlog_ratio=0.0, cost=10, price=100, product_unit_cost=1, production_rate=1, sale_gamma=100, type='material', vlt=1, service_level=0.95)),\n",
      " 16: ('consumer',\n",
      "      0,\n",
      "      8,\n",
      "      SkuInfo(id=3, init_stock=100, sub_storage_id=0, storage_upper_bound=None, backlog_ratio=0.0, cost=10, price=100, product_unit_cost=1, production_rate=1, sale_gamma=100, type='material', vlt=1, service_level=0.95)),\n",
      " 18: ('storage', 2, 17, None),\n",
      " 19: ('distribution', 2, 17, None),\n",
      " 20: ('vehicle', 4, 17, None),\n",
      " 21: ('vehicle', 5, 17, None),\n",
      " 22: ('product',\n",
      "      3,\n",
      "      17,\n",
      "      SkuInfo(id=1, init_stock=1000, sub_storage_id=0, storage_upper_bound=None, backlog_ratio=0.0, cost=10, price=100, product_unit_cost=1, production_rate=1.0, sale_gamma=100, type=None, vlt=1, service_level=0.95)),\n",
      " 23: ('consumer',\n",
      "      1,\n",
      "      17,\n",
      "      SkuInfo(id=1, init_stock=1000, sub_storage_id=0, storage_upper_bound=None, backlog_ratio=0.0, cost=10, price=100, product_unit_cost=1, production_rate=1.0, sale_gamma=100, type=None, vlt=1, service_level=0.95)),\n",
      " 24: ('product',\n",
      "      4,\n",
      "      17,\n",
      "      SkuInfo(id=2, init_stock=1000, sub_storage_id=0, storage_upper_bound=None, backlog_ratio=0.0, cost=10, price=100, product_unit_cost=1, production_rate=1.0, sale_gamma=100, type=None, vlt=1, service_level=0.95)),\n",
      " 25: ('consumer',\n",
      "      2,\n",
      "      17,\n",
      "      SkuInfo(id=2, init_stock=1000, sub_storage_id=0, storage_upper_bound=None, backlog_ratio=0.0, cost=10, price=100, product_unit_cost=1, production_rate=1.0, sale_gamma=100, type=None, vlt=1, service_level=0.95)),\n",
      " 26: ('product',\n",
      "      5,\n",
      "      17,\n",
      "      SkuInfo(id=3, init_stock=1000, sub_storage_id=0, storage_upper_bound=None, backlog_ratio=0.0, cost=10, price=100, product_unit_cost=1, production_rate=1.0, sale_gamma=100, type=None, vlt=1, service_level=0.95)),\n",
      " 27: ('consumer',\n",
      "      3,\n",
      "      17,\n",
      "      SkuInfo(id=3, init_stock=1000, sub_storage_id=0, storage_upper_bound=None, backlog_ratio=0.0, cost=10, price=100, product_unit_cost=1, production_rate=1.0, sale_gamma=100, type=None, vlt=1, service_level=0.95)),\n",
      " 29: ('storage', 3, 28, None),\n",
      " 30: ('product',\n",
      "      6,\n",
      "      28,\n",
      "      SkuInfo(id=1, init_stock=100, sub_storage_id=0, storage_upper_bound=None, backlog_ratio=0.1, cost=10, price=300, product_unit_cost=1, production_rate=1.0, sale_gamma=100, type=None, vlt=1, service_level=0.95)),\n",
      " 31: ('consumer',\n",
      "      4,\n",
      "      28,\n",
      "      SkuInfo(id=1, init_stock=100, sub_storage_id=0, storage_upper_bound=None, backlog_ratio=0.1, cost=10, price=300, product_unit_cost=1, production_rate=1.0, sale_gamma=100, type=None, vlt=1, service_level=0.95)),\n",
      " 32: ('seller',\n",
      "      0,\n",
      "      28,\n",
      "      SkuInfo(id=1, init_stock=100, sub_storage_id=0, storage_upper_bound=None, backlog_ratio=0.1, cost=10, price=300, product_unit_cost=1, production_rate=1.0, sale_gamma=100, type=None, vlt=1, service_level=0.95)),\n",
      " 33: ('product',\n",
      "      7,\n",
      "      28,\n",
      "      SkuInfo(id=3, init_stock=100, sub_storage_id=0, storage_upper_bound=None, backlog_ratio=0.1, cost=10, price=200, product_unit_cost=1, production_rate=1.0, sale_gamma=100, type=None, vlt=1, service_level=0.95)),\n",
      " 34: ('consumer',\n",
      "      5,\n",
      "      28,\n",
      "      SkuInfo(id=3, init_stock=100, sub_storage_id=0, storage_upper_bound=None, backlog_ratio=0.1, cost=10, price=200, product_unit_cost=1, production_rate=1.0, sale_gamma=100, type=None, vlt=1, service_level=0.95)),\n",
      " 35: ('seller',\n",
      "      1,\n",
      "      28,\n",
      "      SkuInfo(id=3, init_stock=100, sub_storage_id=0, storage_upper_bound=None, backlog_ratio=0.1, cost=10, price=200, product_unit_cost=1, production_rate=1.0, sale_gamma=100, type=None, vlt=1, service_level=0.95)),\n",
      " 36: ('product',\n",
      "      8,\n",
      "      28,\n",
      "      SkuInfo(id=2, init_stock=100, sub_storage_id=0, storage_upper_bound=None, backlog_ratio=0.1, cost=10, price=100, product_unit_cost=1, production_rate=1.0, sale_gamma=100, type=None, vlt=1, service_level=0.95)),\n",
      " 37: ('consumer',\n",
      "      6,\n",
      "      28,\n",
      "      SkuInfo(id=2, init_stock=100, sub_storage_id=0, storage_upper_bound=None, backlog_ratio=0.1, cost=10, price=100, product_unit_cost=1, production_rate=1.0, sale_gamma=100, type=None, vlt=1, service_level=0.95)),\n",
      " 38: ('seller',\n",
      "      2,\n",
      "      28,\n",
      "      SkuInfo(id=2, init_stock=100, sub_storage_id=0, storage_upper_bound=None, backlog_ratio=0.1, cost=10, price=100, product_unit_cost=1, production_rate=1.0, sale_gamma=100, type=None, vlt=1, service_level=0.95))}\n"
     ]
    }
   ],
   "source": [
    "pprint(env.summary['node_mapping']['unit_mapping'])"
   ]
  },
  {
   "cell_type": "code",
   "execution_count": 5,
   "id": "504e25a0",
   "metadata": {},
   "outputs": [
    {
     "data": {
      "text/plain": [
       "{1: SkuMeta(id=1, name='sku1', output_units_per_lot=12, bom={3: 10}),\n",
       " 2: SkuMeta(id=2, name='sku2', output_units_per_lot=1, bom={}),\n",
       " 3: SkuMeta(id=3, name='sku3', output_units_per_lot=1, bom={})}"
      ]
     },
     "execution_count": 5,
     "metadata": {},
     "output_type": "execute_result"
    }
   ],
   "source": [
    "env.summary['node_mapping']['skus']"
   ]
  },
  {
   "cell_type": "code",
   "execution_count": 6,
   "id": "45f800f2",
   "metadata": {},
   "outputs": [
    {
     "data": {
      "text/plain": [
       "0"
      ]
     },
     "execution_count": 6,
     "metadata": {},
     "output_type": "execute_result"
    }
   ],
   "source": [
    "env.summary['node_mapping']['max_price']"
   ]
  },
  {
   "cell_type": "code",
   "execution_count": 7,
   "id": "a65f3bbe",
   "metadata": {},
   "outputs": [
    {
     "data": {
      "text/plain": [
       "1"
      ]
     },
     "execution_count": 7,
     "metadata": {},
     "output_type": "execute_result"
    }
   ],
   "source": [
    "env.summary['node_mapping']['max_sources_per_facility']"
   ]
  },
  {
   "cell_type": "code",
   "execution_count": 8,
   "id": "12c27815",
   "metadata": {},
   "outputs": [
    {
     "name": "stdout",
     "output_type": "stream",
     "text": [
      "{1: FacilityInfo(id=1, name='Supplier_001', node_index=0, class_name=<class 'maro.simulator.scenarios.supply_chain.facilities.supplier.SupplierFacility'>, configs={'delay_order_penalty': 10, 'order_cost': 0}, skus={3: SkuInfo(id=3, init_stock=100, sub_storage_id=0, storage_upper_bound=None, backlog_ratio=0.0, cost=10, price=10, product_unit_cost=1, production_rate=1, sale_gamma=100, type='production', vlt=1, service_level=0.95)}, upstreams={}, downstreams={3: [8, 17, 28]}, storage_info=StorageUnitInfo(id=2, node_index=0, node_name='storage', class_name=<class 'maro.simulator.scenarios.supply_chain.units.storage.StorageUnit'>, config=[SubStorageConfig(id=0, capacity=10000, unit_storage_cost=1)], children=None, product_list=[3]), distribution_info=DistributionUnitInfo(id=3, node_index=0, node_name='distribution', class_name=<class 'maro.simulator.scenarios.supply_chain.units.distribution.DistributionUnit'>, config={'unit_price': 1}, children=[BaseUnitInfo(id=4, node_index=0, node_name='vehicle', class_name=<class 'maro.simulator.scenarios.supply_chain.units.vehicle.VehicleUnit'>, config={'patient': 100}, children=None), BaseUnitInfo(id=5, node_index=1, node_name='vehicle', class_name=<class 'maro.simulator.scenarios.supply_chain.units.vehicle.VehicleUnit'>, config={'patient': 100}, children=None)], vehicle_node_index_list=[0, 1]), products_info={3: ProductUnitInfo(id=6, node_index=0, node_name='product', class_name=<class 'maro.simulator.scenarios.supply_chain.units.product.ProductUnit'>, config={'consumer': {'class': 'ConsumerUnit'}, 'manufacture': {'class': 'ManufactureUnit'}}, children=[ManufactureUnitInfo(id=7, node_index=0, node_name='manufacture', class_name=<class 'maro.simulator.scenarios.supply_chain.units.manufacture.ManufactureUnit'>, config={}, children=None, product_id=3)], product_id=3, consumer_info=None, manufacture_info=ManufactureUnitInfo(id=7, node_index=0, node_name='manufacture', class_name=<class 'maro.simulator.scenarios.supply_chain.units.manufacture.ManufactureUnit'>, config={}, children=None, product_id=3), seller_info=None, max_vlt=1)}),\n",
      " 8: FacilityInfo(id=8, name='Supplier_002', node_index=1, class_name=<class 'maro.simulator.scenarios.supply_chain.facilities.supplier.SupplierFacility'>, configs={'delay_order_penalty': 10, 'order_cost': 0}, skus={1: SkuInfo(id=1, init_stock=100, sub_storage_id=0, storage_upper_bound=None, backlog_ratio=0.0, cost=10, price=100, product_unit_cost=1, production_rate=1, sale_gamma=100, type='production', vlt=1, service_level=0.95), 3: SkuInfo(id=3, init_stock=100, sub_storage_id=0, storage_upper_bound=None, backlog_ratio=0.0, cost=10, price=100, product_unit_cost=1, production_rate=1, sale_gamma=100, type='material', vlt=1, service_level=0.95)}, upstreams={3: [1]}, downstreams={1: [17, 28]}, storage_info=StorageUnitInfo(id=9, node_index=1, node_name='storage', class_name=<class 'maro.simulator.scenarios.supply_chain.units.storage.StorageUnit'>, config=[SubStorageConfig(id=0, capacity=10000, unit_storage_cost=1)], children=None, product_list=[1, 3]), distribution_info=DistributionUnitInfo(id=10, node_index=1, node_name='distribution', class_name=<class 'maro.simulator.scenarios.supply_chain.units.distribution.DistributionUnit'>, config={'unit_price': 1}, children=[BaseUnitInfo(id=11, node_index=2, node_name='vehicle', class_name=<class 'maro.simulator.scenarios.supply_chain.units.vehicle.VehicleUnit'>, config={'patient': 100}, children=None), BaseUnitInfo(id=12, node_index=3, node_name='vehicle', class_name=<class 'maro.simulator.scenarios.supply_chain.units.vehicle.VehicleUnit'>, config={'patient': 100}, children=None)], vehicle_node_index_list=[2, 3]), products_info={1: ProductUnitInfo(id=13, node_index=1, node_name='product', class_name=<class 'maro.simulator.scenarios.supply_chain.units.product.ProductUnit'>, config={'consumer': {'class': 'ConsumerUnit'}, 'manufacture': {'class': 'ManufactureUnit'}}, children=[ManufactureUnitInfo(id=14, node_index=1, node_name='manufacture', class_name=<class 'maro.simulator.scenarios.supply_chain.units.manufacture.ManufactureUnit'>, config={}, children=None, product_id=1)], product_id=1, consumer_info=None, manufacture_info=ManufactureUnitInfo(id=14, node_index=1, node_name='manufacture', class_name=<class 'maro.simulator.scenarios.supply_chain.units.manufacture.ManufactureUnit'>, config={}, children=None, product_id=1), seller_info=None, max_vlt=1), 3: ProductUnitInfo(id=15, node_index=2, node_name='product', class_name=<class 'maro.simulator.scenarios.supply_chain.units.product.ProductUnit'>, config={'consumer': {'class': 'ConsumerUnit'}, 'manufacture': {'class': 'ManufactureUnit'}}, children=[ConsumerUnitInfo(id=16, node_index=0, node_name='consumer', class_name=<class 'maro.simulator.scenarios.supply_chain.units.consumer.ConsumerUnit'>, config={}, children=None, product_id=3, source_facility_id_list=[1])], product_id=3, consumer_info=ConsumerUnitInfo(id=16, node_index=0, node_name='consumer', class_name=<class 'maro.simulator.scenarios.supply_chain.units.consumer.ConsumerUnit'>, config={}, children=None, product_id=3, source_facility_id_list=[1]), manufacture_info=None, seller_info=None, max_vlt=1)}),\n",
      " 17: FacilityInfo(id=17, name='Warehouse_001', node_index=2, class_name=<class 'maro.simulator.scenarios.supply_chain.facilities.warehouse.WarehouseFacility'>, configs={'delay_order_penalty': 10, 'order_cost': 0}, skus={1: SkuInfo(id=1, init_stock=1000, sub_storage_id=0, storage_upper_bound=None, backlog_ratio=0.0, cost=10, price=100, product_unit_cost=1, production_rate=1.0, sale_gamma=100, type=None, vlt=1, service_level=0.95), 2: SkuInfo(id=2, init_stock=1000, sub_storage_id=0, storage_upper_bound=None, backlog_ratio=0.0, cost=10, price=100, product_unit_cost=1, production_rate=1.0, sale_gamma=100, type=None, vlt=1, service_level=0.95), 3: SkuInfo(id=3, init_stock=1000, sub_storage_id=0, storage_upper_bound=None, backlog_ratio=0.0, cost=10, price=100, product_unit_cost=1, production_rate=1.0, sale_gamma=100, type=None, vlt=1, service_level=0.95)}, upstreams={1: [8], 3: [1]}, downstreams={}, storage_info=StorageUnitInfo(id=18, node_index=2, node_name='storage', class_name=<class 'maro.simulator.scenarios.supply_chain.units.storage.StorageUnit'>, config=[SubStorageConfig(id=0, capacity=30000, unit_storage_cost=1)], children=None, product_list=[1, 2, 3]), distribution_info=DistributionUnitInfo(id=19, node_index=2, node_name='distribution', class_name=<class 'maro.simulator.scenarios.supply_chain.units.distribution.DistributionUnit'>, config={'unit_price': 1}, children=[BaseUnitInfo(id=20, node_index=4, node_name='vehicle', class_name=<class 'maro.simulator.scenarios.supply_chain.units.vehicle.VehicleUnit'>, config={'patient': 100}, children=None), BaseUnitInfo(id=21, node_index=5, node_name='vehicle', class_name=<class 'maro.simulator.scenarios.supply_chain.units.vehicle.VehicleUnit'>, config={'patient': 100}, children=None)], vehicle_node_index_list=[4, 5]), products_info={1: ProductUnitInfo(id=22, node_index=3, node_name='product', class_name=<class 'maro.simulator.scenarios.supply_chain.units.product.ProductUnit'>, config={'consumer': {'class': 'ConsumerUnit'}}, children=[ConsumerUnitInfo(id=23, node_index=1, node_name='consumer', class_name=<class 'maro.simulator.scenarios.supply_chain.units.consumer.ConsumerUnit'>, config={}, children=None, product_id=1, source_facility_id_list=[8])], product_id=1, consumer_info=ConsumerUnitInfo(id=23, node_index=1, node_name='consumer', class_name=<class 'maro.simulator.scenarios.supply_chain.units.consumer.ConsumerUnit'>, config={}, children=None, product_id=1, source_facility_id_list=[8]), manufacture_info=None, seller_info=None, max_vlt=1), 2: ProductUnitInfo(id=24, node_index=4, node_name='product', class_name=<class 'maro.simulator.scenarios.supply_chain.units.product.ProductUnit'>, config={'consumer': {'class': 'ConsumerUnit'}}, children=[ConsumerUnitInfo(id=25, node_index=2, node_name='consumer', class_name=<class 'maro.simulator.scenarios.supply_chain.units.consumer.ConsumerUnit'>, config={}, children=None, product_id=2, source_facility_id_list=[])], product_id=2, consumer_info=ConsumerUnitInfo(id=25, node_index=2, node_name='consumer', class_name=<class 'maro.simulator.scenarios.supply_chain.units.consumer.ConsumerUnit'>, config={}, children=None, product_id=2, source_facility_id_list=[]), manufacture_info=None, seller_info=None, max_vlt=1), 3: ProductUnitInfo(id=26, node_index=5, node_name='product', class_name=<class 'maro.simulator.scenarios.supply_chain.units.product.ProductUnit'>, config={'consumer': {'class': 'ConsumerUnit'}}, children=[ConsumerUnitInfo(id=27, node_index=3, node_name='consumer', class_name=<class 'maro.simulator.scenarios.supply_chain.units.consumer.ConsumerUnit'>, config={}, children=None, product_id=3, source_facility_id_list=[1])], product_id=3, consumer_info=ConsumerUnitInfo(id=27, node_index=3, node_name='consumer', class_name=<class 'maro.simulator.scenarios.supply_chain.units.consumer.ConsumerUnit'>, config={}, children=None, product_id=3, source_facility_id_list=[1]), manufacture_info=None, seller_info=None, max_vlt=1)}),\n",
      " 28: FacilityInfo(id=28, name='Retailer_001', node_index=3, class_name=<class 'maro.simulator.scenarios.supply_chain.facilities.retailer.RetailerFacility'>, configs={'order_cost': 0}, skus={1: SkuInfo(id=1, init_stock=100, sub_storage_id=0, storage_upper_bound=None, backlog_ratio=0.1, cost=10, price=300, product_unit_cost=1, production_rate=1.0, sale_gamma=100, type=None, vlt=1, service_level=0.95), 3: SkuInfo(id=3, init_stock=100, sub_storage_id=0, storage_upper_bound=None, backlog_ratio=0.1, cost=10, price=200, product_unit_cost=1, production_rate=1.0, sale_gamma=100, type=None, vlt=1, service_level=0.95), 2: SkuInfo(id=2, init_stock=100, sub_storage_id=0, storage_upper_bound=None, backlog_ratio=0.1, cost=10, price=100, product_unit_cost=1, production_rate=1.0, sale_gamma=100, type=None, vlt=1, service_level=0.95)}, upstreams={1: [8], 3: [1]}, downstreams={}, storage_info=StorageUnitInfo(id=29, node_index=3, node_name='storage', class_name=<class 'maro.simulator.scenarios.supply_chain.units.storage.StorageUnit'>, config=[SubStorageConfig(id=0, capacity=20000, unit_storage_cost=1)], children=None, product_list=[1, 3, 2]), distribution_info=None, products_info={1: ProductUnitInfo(id=30, node_index=6, node_name='product', class_name=<class 'maro.simulator.scenarios.supply_chain.units.storeproduct.StoreProductUnit'>, config={'consumer': {'class': 'ConsumerUnit'}, 'seller': {'class': 'SellerUnit', 'config': {'sale_hist_len': 4}}}, children=[ConsumerUnitInfo(id=31, node_index=4, node_name='consumer', class_name=<class 'maro.simulator.scenarios.supply_chain.units.consumer.ConsumerUnit'>, config={}, children=None, product_id=1, source_facility_id_list=[8]), ExtendUnitInfo(id=32, node_index=0, node_name='seller', class_name=<class 'maro.simulator.scenarios.supply_chain.units.seller.SellerUnit'>, config={'sale_hist_len': 4}, children=None, product_id=1)], product_id=1, consumer_info=ConsumerUnitInfo(id=31, node_index=4, node_name='consumer', class_name=<class 'maro.simulator.scenarios.supply_chain.units.consumer.ConsumerUnit'>, config={}, children=None, product_id=1, source_facility_id_list=[8]), manufacture_info=None, seller_info=SellerUnitInfo(id=32, node_index=0, node_name='seller', class_name=<class 'maro.simulator.scenarios.supply_chain.units.seller.SellerUnit'>, config={'sale_hist_len': 4}, children=None, product_id=1), max_vlt=1), 3: ProductUnitInfo(id=33, node_index=7, node_name='product', class_name=<class 'maro.simulator.scenarios.supply_chain.units.storeproduct.StoreProductUnit'>, config={'consumer': {'class': 'ConsumerUnit'}, 'seller': {'class': 'SellerUnit', 'config': {'sale_hist_len': 4}}}, children=[ConsumerUnitInfo(id=34, node_index=5, node_name='consumer', class_name=<class 'maro.simulator.scenarios.supply_chain.units.consumer.ConsumerUnit'>, config={}, children=None, product_id=3, source_facility_id_list=[1]), ExtendUnitInfo(id=35, node_index=1, node_name='seller', class_name=<class 'maro.simulator.scenarios.supply_chain.units.seller.SellerUnit'>, config={'sale_hist_len': 4}, children=None, product_id=3)], product_id=3, consumer_info=ConsumerUnitInfo(id=34, node_index=5, node_name='consumer', class_name=<class 'maro.simulator.scenarios.supply_chain.units.consumer.ConsumerUnit'>, config={}, children=None, product_id=3, source_facility_id_list=[1]), manufacture_info=None, seller_info=SellerUnitInfo(id=35, node_index=1, node_name='seller', class_name=<class 'maro.simulator.scenarios.supply_chain.units.seller.SellerUnit'>, config={'sale_hist_len': 4}, children=None, product_id=3), max_vlt=1), 2: ProductUnitInfo(id=36, node_index=8, node_name='product', class_name=<class 'maro.simulator.scenarios.supply_chain.units.storeproduct.StoreProductUnit'>, config={'consumer': {'class': 'ConsumerUnit'}, 'seller': {'class': 'SellerUnit', 'config': {'sale_hist_len': 4}}}, children=[ConsumerUnitInfo(id=37, node_index=6, node_name='consumer', class_name=<class 'maro.simulator.scenarios.supply_chain.units.consumer.ConsumerUnit'>, config={}, children=None, product_id=2, source_facility_id_list=[]), ExtendUnitInfo(id=38, node_index=2, node_name='seller', class_name=<class 'maro.simulator.scenarios.supply_chain.units.seller.SellerUnit'>, config={'sale_hist_len': 4}, children=None, product_id=2)], product_id=2, consumer_info=ConsumerUnitInfo(id=37, node_index=6, node_name='consumer', class_name=<class 'maro.simulator.scenarios.supply_chain.units.consumer.ConsumerUnit'>, config={}, children=None, product_id=2, source_facility_id_list=[]), manufacture_info=None, seller_info=SellerUnitInfo(id=38, node_index=2, node_name='seller', class_name=<class 'maro.simulator.scenarios.supply_chain.units.seller.SellerUnit'>, config={'sale_hist_len': 4}, children=None, product_id=2), max_vlt=1)})}\n"
     ]
    }
   ],
   "source": [
    "pprint(env.summary['node_mapping']['facilities'])"
   ]
  },
  {
   "cell_type": "code",
   "execution_count": null,
   "id": "85b2e366",
   "metadata": {},
   "outputs": [],
   "source": []
  }
 ],
 "metadata": {
  "kernelspec": {
   "display_name": "Python 3 (ipykernel)",
   "language": "python",
   "name": "python3"
  },
  "language_info": {
   "codemirror_mode": {
    "name": "ipython",
    "version": 3
   },
   "file_extension": ".py",
   "mimetype": "text/x-python",
   "name": "python",
   "nbconvert_exporter": "python",
   "pygments_lexer": "ipython3",
   "version": "3.7.0"
  }
 },
 "nbformat": 4,
 "nbformat_minor": 5
}
